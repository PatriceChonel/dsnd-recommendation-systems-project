{
 "cells": [
  {
   "cell_type": "markdown",
   "metadata": {},
   "source": [
    "# Recommendation System Project: IBM Community\n",
    "\n",
    "In this notebook, you will be putting your recommendation skills to use on real data from the IBM Watson Studio platform. \n",
    "\n",
    "\n",
    "You may either submit your notebook through the workspace here, or you may work from your local machine and submit through the next page.  Either way assure that your code passes the project [RUBRIC](https://review.udacity.com/#!/rubrics/3325/view).  **Please save regularly.**\n",
    "\n",
    "By following the table of contents, you will build out a number of different methods for making recommendations that can be used for different situations. \n",
    "\n",
    "\n",
    "## Table of Contents\n",
    "\n",
    "I. [Exploratory Data Analysis](#Exploratory-Data-Analysis)<br>\n",
    "II. [Rank Based Recommendations](#Rank)<br>\n",
    "III. [User-User Based Collaborative Filtering](#User-User)<br>\n",
    "IV. [Content Based Recommendations](#Content-Recs)<br>\n",
    "V. [Matrix Factorization](#Matrix-Fact)<br>\n",
    "VI. [Extras & Concluding](#conclusions)\n",
    "\n",
    "At the end of the notebook, you will find directions for how to submit your work.  Let's get started by importing the necessary libraries and reading in the data."
   ]
  },
  {
   "cell_type": "code",
   "execution_count": 2,
   "metadata": {},
   "outputs": [
    {
     "data": {
      "text/html": [
       "<div>\n",
       "<style scoped>\n",
       "    .dataframe tbody tr th:only-of-type {\n",
       "        vertical-align: middle;\n",
       "    }\n",
       "\n",
       "    .dataframe tbody tr th {\n",
       "        vertical-align: top;\n",
       "    }\n",
       "\n",
       "    .dataframe thead th {\n",
       "        text-align: right;\n",
       "    }\n",
       "</style>\n",
       "<table border=\"1\" class=\"dataframe\">\n",
       "  <thead>\n",
       "    <tr style=\"text-align: right;\">\n",
       "      <th></th>\n",
       "      <th>Unnamed: 0</th>\n",
       "      <th>article_id</th>\n",
       "      <th>title</th>\n",
       "      <th>email</th>\n",
       "    </tr>\n",
       "  </thead>\n",
       "  <tbody>\n",
       "    <tr>\n",
       "      <th>0</th>\n",
       "      <td>0</td>\n",
       "      <td>1430</td>\n",
       "      <td>using pixiedust for fast, flexible, and easier...</td>\n",
       "      <td>ef5f11f77ba020cd36e1105a00ab868bbdbf7fe7</td>\n",
       "    </tr>\n",
       "    <tr>\n",
       "      <th>1</th>\n",
       "      <td>1</td>\n",
       "      <td>1314</td>\n",
       "      <td>healthcare python streaming application demo</td>\n",
       "      <td>083cbdfa93c8444beaa4c5f5e0f5f9198e4f9e0b</td>\n",
       "    </tr>\n",
       "    <tr>\n",
       "      <th>2</th>\n",
       "      <td>2</td>\n",
       "      <td>1429</td>\n",
       "      <td>use deep learning for image classification</td>\n",
       "      <td>b96a4f2e92d8572034b1e9b28f9ac673765cd074</td>\n",
       "    </tr>\n",
       "    <tr>\n",
       "      <th>3</th>\n",
       "      <td>3</td>\n",
       "      <td>1338</td>\n",
       "      <td>ml optimization using cognitive assistant</td>\n",
       "      <td>06485706b34a5c9bf2a0ecdac41daf7e7654ceb7</td>\n",
       "    </tr>\n",
       "    <tr>\n",
       "      <th>4</th>\n",
       "      <td>4</td>\n",
       "      <td>1276</td>\n",
       "      <td>deploy your python model as a restful api</td>\n",
       "      <td>f01220c46fc92c6e6b161b1849de11faacd7ccb2</td>\n",
       "    </tr>\n",
       "  </tbody>\n",
       "</table>\n",
       "</div>"
      ],
      "text/plain": [
       "   Unnamed: 0  article_id                                              title  \\\n",
       "0           0        1430  using pixiedust for fast, flexible, and easier...   \n",
       "1           1        1314       healthcare python streaming application demo   \n",
       "2           2        1429         use deep learning for image classification   \n",
       "3           3        1338          ml optimization using cognitive assistant   \n",
       "4           4        1276          deploy your python model as a restful api   \n",
       "\n",
       "                                      email  \n",
       "0  ef5f11f77ba020cd36e1105a00ab868bbdbf7fe7  \n",
       "1  083cbdfa93c8444beaa4c5f5e0f5f9198e4f9e0b  \n",
       "2  b96a4f2e92d8572034b1e9b28f9ac673765cd074  \n",
       "3  06485706b34a5c9bf2a0ecdac41daf7e7654ceb7  \n",
       "4  f01220c46fc92c6e6b161b1849de11faacd7ccb2  "
      ]
     },
     "execution_count": 2,
     "metadata": {},
     "output_type": "execute_result"
    }
   ],
   "source": [
    "import pandas as pd\n",
    "import numpy as np\n",
    "import matplotlib.pyplot as plt\n",
    "import project_tests as t\n",
    "\n",
    "\n",
    "df = pd.read_csv(\n",
    "    'data/user-item-interactions.csv', \n",
    "    dtype={'article_id': int, 'title': str, 'email': str}\n",
    ")\n",
    "# Show df to get an idea of the data\n",
    "df.head()"
   ]
  },
  {
   "cell_type": "markdown",
   "metadata": {},
   "source": [
    "### <a class=\"anchor\" id=\"Exploratory-Data-Analysis\">Part I : Exploratory Data Analysis</a>\n",
    "\n",
    "Use the dictionary and cells below to provide some insight into the descriptive statistics of the data.\n",
    "\n",
    "`1.` Are there any missing values? If so, provide a count of missing values. If there are missing values in `email`, assign it the same id value `\"unknown_user\"`."
   ]
  },
  {
   "cell_type": "code",
   "execution_count": 4,
   "metadata": {},
   "outputs": [
    {
     "name": "stdout",
     "output_type": "stream",
     "text": [
      "<class 'pandas.core.frame.DataFrame'>\n",
      "RangeIndex: 45993 entries, 0 to 45992\n",
      "Data columns (total 4 columns):\n",
      " #   Column      Non-Null Count  Dtype \n",
      "---  ------      --------------  ----- \n",
      " 0   Unnamed: 0  45993 non-null  int64 \n",
      " 1   article_id  45993 non-null  int32 \n",
      " 2   title       45993 non-null  object\n",
      " 3   email       45976 non-null  object\n",
      "dtypes: int32(1), int64(1), object(2)\n",
      "memory usage: 1.2+ MB\n"
     ]
    }
   ],
   "source": [
    "# Some interactions do not have a user associated with it, assume the same user.\n",
    "df.info()"
   ]
  },
  {
   "cell_type": "code",
   "execution_count": 5,
   "metadata": {},
   "outputs": [
    {
     "name": "stdout",
     "output_type": "stream",
     "text": [
      "Number of Null email values is: 17\n"
     ]
    }
   ],
   "source": [
    "print(f\"Number of Null email values is: {df['email'].isna().sum()}\")"
   ]
  },
  {
   "cell_type": "markdown",
   "metadata": {},
   "source": [
    "The number of email values is 17 because we have 45976 non null values and the dataset contains 45993 interactions between the users and articles"
   ]
  },
  {
   "cell_type": "code",
   "execution_count": 7,
   "metadata": {},
   "outputs": [
    {
     "data": {
      "text/html": [
       "<div>\n",
       "<style scoped>\n",
       "    .dataframe tbody tr th:only-of-type {\n",
       "        vertical-align: middle;\n",
       "    }\n",
       "\n",
       "    .dataframe tbody tr th {\n",
       "        vertical-align: top;\n",
       "    }\n",
       "\n",
       "    .dataframe thead th {\n",
       "        text-align: right;\n",
       "    }\n",
       "</style>\n",
       "<table border=\"1\" class=\"dataframe\">\n",
       "  <thead>\n",
       "    <tr style=\"text-align: right;\">\n",
       "      <th></th>\n",
       "      <th>Unnamed: 0</th>\n",
       "      <th>article_id</th>\n",
       "      <th>title</th>\n",
       "      <th>email</th>\n",
       "    </tr>\n",
       "  </thead>\n",
       "  <tbody>\n",
       "    <tr>\n",
       "      <th>25131</th>\n",
       "      <td>25146</td>\n",
       "      <td>1016</td>\n",
       "      <td>why you should master r (even if it might even...</td>\n",
       "      <td>NaN</td>\n",
       "    </tr>\n",
       "    <tr>\n",
       "      <th>29758</th>\n",
       "      <td>30157</td>\n",
       "      <td>1393</td>\n",
       "      <td>the nurse assignment problem</td>\n",
       "      <td>NaN</td>\n",
       "    </tr>\n",
       "    <tr>\n",
       "      <th>29759</th>\n",
       "      <td>30158</td>\n",
       "      <td>20</td>\n",
       "      <td>working interactively with rstudio and noteboo...</td>\n",
       "      <td>NaN</td>\n",
       "    </tr>\n",
       "    <tr>\n",
       "      <th>29760</th>\n",
       "      <td>30159</td>\n",
       "      <td>1174</td>\n",
       "      <td>breast cancer wisconsin (diagnostic) data set</td>\n",
       "      <td>NaN</td>\n",
       "    </tr>\n",
       "    <tr>\n",
       "      <th>29761</th>\n",
       "      <td>30160</td>\n",
       "      <td>62</td>\n",
       "      <td>data visualization: the importance of excludin...</td>\n",
       "      <td>NaN</td>\n",
       "    </tr>\n",
       "    <tr>\n",
       "      <th>35264</th>\n",
       "      <td>36016</td>\n",
       "      <td>224</td>\n",
       "      <td>using apply, sapply, lapply in r</td>\n",
       "      <td>NaN</td>\n",
       "    </tr>\n",
       "    <tr>\n",
       "      <th>35276</th>\n",
       "      <td>36029</td>\n",
       "      <td>961</td>\n",
       "      <td>beyond parallelize and collect</td>\n",
       "      <td>NaN</td>\n",
       "    </tr>\n",
       "    <tr>\n",
       "      <th>35277</th>\n",
       "      <td>36030</td>\n",
       "      <td>268</td>\n",
       "      <td>sector correlations shiny app</td>\n",
       "      <td>NaN</td>\n",
       "    </tr>\n",
       "    <tr>\n",
       "      <th>35278</th>\n",
       "      <td>36031</td>\n",
       "      <td>268</td>\n",
       "      <td>sector correlations shiny app</td>\n",
       "      <td>NaN</td>\n",
       "    </tr>\n",
       "    <tr>\n",
       "      <th>35279</th>\n",
       "      <td>36032</td>\n",
       "      <td>268</td>\n",
       "      <td>sector correlations shiny app</td>\n",
       "      <td>NaN</td>\n",
       "    </tr>\n",
       "    <tr>\n",
       "      <th>35280</th>\n",
       "      <td>36033</td>\n",
       "      <td>268</td>\n",
       "      <td>sector correlations shiny app</td>\n",
       "      <td>NaN</td>\n",
       "    </tr>\n",
       "    <tr>\n",
       "      <th>35281</th>\n",
       "      <td>36034</td>\n",
       "      <td>415</td>\n",
       "      <td>using machine learning to predict value of hom...</td>\n",
       "      <td>NaN</td>\n",
       "    </tr>\n",
       "    <tr>\n",
       "      <th>35282</th>\n",
       "      <td>36035</td>\n",
       "      <td>846</td>\n",
       "      <td>pearson correlation aggregation on sparksql</td>\n",
       "      <td>NaN</td>\n",
       "    </tr>\n",
       "    <tr>\n",
       "      <th>35283</th>\n",
       "      <td>36036</td>\n",
       "      <td>268</td>\n",
       "      <td>sector correlations shiny app</td>\n",
       "      <td>NaN</td>\n",
       "    </tr>\n",
       "    <tr>\n",
       "      <th>35284</th>\n",
       "      <td>36037</td>\n",
       "      <td>162</td>\n",
       "      <td>an introduction to stock market data analysis ...</td>\n",
       "      <td>NaN</td>\n",
       "    </tr>\n",
       "    <tr>\n",
       "      <th>42749</th>\n",
       "      <td>44112</td>\n",
       "      <td>647</td>\n",
       "      <td>getting started with apache mahout</td>\n",
       "      <td>NaN</td>\n",
       "    </tr>\n",
       "    <tr>\n",
       "      <th>42750</th>\n",
       "      <td>44113</td>\n",
       "      <td>965</td>\n",
       "      <td>data visualization playbook: revisiting the ba...</td>\n",
       "      <td>NaN</td>\n",
       "    </tr>\n",
       "  </tbody>\n",
       "</table>\n",
       "</div>"
      ],
      "text/plain": [
       "       Unnamed: 0  article_id  \\\n",
       "25131       25146        1016   \n",
       "29758       30157        1393   \n",
       "29759       30158          20   \n",
       "29760       30159        1174   \n",
       "29761       30160          62   \n",
       "35264       36016         224   \n",
       "35276       36029         961   \n",
       "35277       36030         268   \n",
       "35278       36031         268   \n",
       "35279       36032         268   \n",
       "35280       36033         268   \n",
       "35281       36034         415   \n",
       "35282       36035         846   \n",
       "35283       36036         268   \n",
       "35284       36037         162   \n",
       "42749       44112         647   \n",
       "42750       44113         965   \n",
       "\n",
       "                                                   title email  \n",
       "25131  why you should master r (even if it might even...   NaN  \n",
       "29758                       the nurse assignment problem   NaN  \n",
       "29759  working interactively with rstudio and noteboo...   NaN  \n",
       "29760      breast cancer wisconsin (diagnostic) data set   NaN  \n",
       "29761  data visualization: the importance of excludin...   NaN  \n",
       "35264                   using apply, sapply, lapply in r   NaN  \n",
       "35276                     beyond parallelize and collect   NaN  \n",
       "35277                      sector correlations shiny app   NaN  \n",
       "35278                      sector correlations shiny app   NaN  \n",
       "35279                      sector correlations shiny app   NaN  \n",
       "35280                      sector correlations shiny app   NaN  \n",
       "35281  using machine learning to predict value of hom...   NaN  \n",
       "35282        pearson correlation aggregation on sparksql   NaN  \n",
       "35283                      sector correlations shiny app   NaN  \n",
       "35284  an introduction to stock market data analysis ...   NaN  \n",
       "42749                 getting started with apache mahout   NaN  \n",
       "42750  data visualization playbook: revisiting the ba...   NaN  "
      ]
     },
     "execution_count": 7,
     "metadata": {},
     "output_type": "execute_result"
    }
   ],
   "source": [
    "df[df.email.isna()]"
   ]
  },
  {
   "cell_type": "code",
   "execution_count": 8,
   "metadata": {},
   "outputs": [
    {
     "name": "stderr",
     "output_type": "stream",
     "text": [
      "C:\\Users\\chone\\AppData\\Local\\Temp\\ipykernel_2168\\2529983070.py:2: FutureWarning: A value is trying to be set on a copy of a DataFrame or Series through chained assignment using an inplace method.\n",
      "The behavior will change in pandas 3.0. This inplace method will never work because the intermediate object on which we are setting values always behaves as a copy.\n",
      "\n",
      "For example, when doing 'df[col].method(value, inplace=True)', try using 'df.method({col: value}, inplace=True)' or df[col] = df[col].method(value) instead, to perform the operation inplace on the original object.\n",
      "\n",
      "\n",
      "  df['email'].fillna(\"unknown_user\", inplace=True)\n"
     ]
    }
   ],
   "source": [
    "# Fill email NaNs with \"unknown_user\"\n",
    "df['email'].fillna(\"unknown_user\", inplace=True)"
   ]
  },
  {
   "cell_type": "code",
   "execution_count": 9,
   "metadata": {},
   "outputs": [
    {
     "data": {
      "text/html": [
       "<div>\n",
       "<style scoped>\n",
       "    .dataframe tbody tr th:only-of-type {\n",
       "        vertical-align: middle;\n",
       "    }\n",
       "\n",
       "    .dataframe tbody tr th {\n",
       "        vertical-align: top;\n",
       "    }\n",
       "\n",
       "    .dataframe thead th {\n",
       "        text-align: right;\n",
       "    }\n",
       "</style>\n",
       "<table border=\"1\" class=\"dataframe\">\n",
       "  <thead>\n",
       "    <tr style=\"text-align: right;\">\n",
       "      <th></th>\n",
       "      <th>Unnamed: 0</th>\n",
       "      <th>article_id</th>\n",
       "      <th>title</th>\n",
       "      <th>email</th>\n",
       "    </tr>\n",
       "  </thead>\n",
       "  <tbody>\n",
       "  </tbody>\n",
       "</table>\n",
       "</div>"
      ],
      "text/plain": [
       "Empty DataFrame\n",
       "Columns: [Unnamed: 0, article_id, title, email]\n",
       "Index: []"
      ]
     },
     "execution_count": 9,
     "metadata": {},
     "output_type": "execute_result"
    }
   ],
   "source": [
    "# Check if no more NaNs \n",
    "df[df.email.isna()]"
   ]
  },
  {
   "cell_type": "markdown",
   "metadata": {},
   "source": [
    "hear after replacing the NaNs with unknown_user we then checked if there were no more nans and the table is empty meaning thatthere are no more nans\n"
   ]
  },
  {
   "cell_type": "markdown",
   "metadata": {},
   "source": [
    "`2.` What is the distribution of how many articles a user interacts with in the dataset?  Provide a visual and descriptive statistics to assist with giving a look at the number of times each user interacts with an article."
   ]
  },
  {
   "cell_type": "code",
   "execution_count": 12,
   "metadata": {},
   "outputs": [
    {
     "name": "stdout",
     "output_type": "stream",
     "text": [
      "count    5149.000000\n",
      "mean        8.932414\n",
      "std        16.801011\n",
      "min         1.000000\n",
      "25%         1.000000\n",
      "50%         3.000000\n",
      "75%         9.000000\n",
      "max       364.000000\n",
      "Name: article_id, dtype: float64\n"
     ]
    }
   ],
   "source": [
    "# What are the descriptive statistics of the number of articles a user interacts with?\n",
    "#I am creating a series where each user<s email is mapped to the number of articles they interacted with.\n",
    "user_interactions = df.groupby('email')['article_id'].count()\n",
    "\n",
    "#Now i am printing the descriptive statistics such as the mean number of interaction per user, minimum and maximum of interaction, quartiles ans standard deviation\n",
    "print(user_interactions.describe())\n"
   ]
  },
  {
   "cell_type": "code",
   "execution_count": 13,
   "metadata": {},
   "outputs": [
    {
     "data": {
      "image/png": "[encoded data removed]",
      "text/plain": [
       "<Figure size 1000x500 with 1 Axes>"
      ]
     },
     "metadata": {},
     "output_type": "display_data"
    }
   ],
   "source": [
    "# Create a plot of the number of articles read by each user\n",
    "\n",
    "import matplotlib.pyplot as plt\n",
    "\n",
    "plt.figure(figsize=(10,5))\n",
    "plt.hist(user_interactions, bins=30, edgecolor='black')\n",
    "plt.xlabel(\"Number of Articles Interacted With\")\n",
    "plt.ylabel(\"Number of Users\")\n",
    "plt.title(\"Distribution of User Article Interactions\")\n",
    "plt.yscale(\"log\")  # Log scale helps with visualization when data is skewed\n",
    "plt.show()\n",
    "\n"
   ]
  },
  {
   "cell_type": "markdown",
   "metadata": {},
   "source": [
    "This histogram represents the number of articles read by each user. we groupbe by users (email) to count the number of articles each user interacted with. We can notice that most of the users have low interaction level and we can also note a few outliers"
   ]
  },
  {
   "cell_type": "code",
   "execution_count": null,
   "metadata": {},
   "outputs": [],
   "source": []
  },
  {
   "cell_type": "code",
   "execution_count": 15,
   "metadata": {},
   "outputs": [
    {
     "data": {
      "image/png": "[encoded data removed]",
      "text/plain": [
       "<Figure size 1000x500 with 1 Axes>"
      ]
     },
     "metadata": {},
     "output_type": "display_data"
    }
   ],
   "source": [
    "# Create a plot of the number of times each article was read\n",
    "#Here we will use Matplot lib again\n",
    "import matplotlib.pyplot as plt\n",
    "\n",
    "# Count how many times each article was read\n",
    "article_counts = df.groupby('article_id')['email'].count()\n",
    "\n",
    "# Create histogram to visualize article popularity\n",
    "plt.figure(figsize=(10,5))\n",
    "plt.hist(article_counts, bins=30, edgecolor='black')\n",
    "plt.xlabel('Number of Users Who Read Each Article')\n",
    "plt.ylabel('Number of Articles')\n",
    "plt.title('Distribution of Article Usage')\n",
    "plt.yscale(\"log\")  # Helps show skewed data better\n",
    "plt.show()"
   ]
  },
  {
   "cell_type": "markdown",
   "metadata": {},
   "source": [
    "We can see that most articles are read by only a few users and that some articles are highly popular."
   ]
  },
  {
   "cell_type": "code",
   "execution_count": 17,
   "metadata": {},
   "outputs": [],
   "source": [
    "# Fill in the median and maximum number of user_article interactions below\n",
    "#I took these value from the descriptive statistic i got earlier\n",
    "median_val = 3  # 50% of individuals interact with 3 articles or fewer.\n",
    "max_views_by_user = 364  # The maximum number of user-article interactions by any 1 user."
   ]
  },
  {
   "cell_type": "markdown",
   "metadata": {},
   "source": [
    "`3.` Use the cells below to find:\n",
    "\n",
    "**a.** The number of unique articles that have an interaction with a user.  \n",
    "**b.** The number of unique articles in the dataset (whether they have any interactions or not).<br>\n",
    "**c.** The number of unique users in the dataset. (excluding null values) <br>\n",
    "**d.** The number of user-article interactions in the dataset."
   ]
  },
  {
   "cell_type": "code",
   "execution_count": 19,
   "metadata": {},
   "outputs": [
    {
     "name": "stdout",
     "output_type": "stream",
     "text": [
      "Unique articles that have at least one interaction: 714\n",
      "Number of unique articles on the IBM platform: 714\n",
      "The number of unique users excluding null values: 5149\n",
      "Number of user-article interactions: 45993\n"
     ]
    }
   ],
   "source": [
    "\n",
    "\n",
    "\n",
    "# a Number of unique articles that have at least one interaction\n",
    "unique_articles = df['article_id'].nunique()\n",
    "\n",
    "# b Number of unique articles on the IBM platform (all distinct articles)\n",
    "total_articles = df['article_id'].nunique()  # Use `.nunique()` instead of `.count()`\n",
    "\n",
    "# c Number of unique users (excluding null values)\n",
    "unique_users = df['email'].nunique()\n",
    "\n",
    "# d Total number of user-article interactions (total rows in dataset)\n",
    "user_article_interactions = df.shape[0]\n",
    "\n",
    "# Print results\n",
    "print(f\"Unique articles that have at least one interaction: {unique_articles}\")\n",
    "print(f\"Number of unique articles on the IBM platform: {total_articles}\")\n",
    "print(f\"The number of unique users excluding null values: {unique_users}\")\n",
    "print(f\"Number of user-article interactions: {user_article_interactions}\")"
   ]
  },
  {
   "cell_type": "markdown",
   "metadata": {},
   "source": [
    "`4.` Use the cells below to find the most viewed **article_id**, as well as how often it was viewed.  After talking to the company leaders, the `email_mapper` function was deemed a reasonable way to map users to ids.  There were a small number of null values, and it was found that all of these null values likely belonged to a single user (which is how they are stored using the function below)."
   ]
  },
  {
   "cell_type": "code",
   "execution_count": 21,
   "metadata": {},
   "outputs": [
    {
     "name": "stdout",
     "output_type": "stream",
     "text": [
      "Index(['Unnamed: 0', 'article_id', 'title', 'email'], dtype='object')\n"
     ]
    }
   ],
   "source": [
    "print(df.columns)  # Verify if 'email' still exists"
   ]
  },
  {
   "cell_type": "code",
   "execution_count": 22,
   "metadata": {},
   "outputs": [
    {
     "name": "stdout",
     "output_type": "stream",
     "text": [
      "   Unnamed: 0  article_id                                              title  \\\n",
      "0           0        1430  using pixiedust for fast, flexible, and easier...   \n",
      "1           1        1314       healthcare python streaming application demo   \n",
      "2           2        1429         use deep learning for image classification   \n",
      "3           3        1338          ml optimization using cognitive assistant   \n",
      "4           4        1276          deploy your python model as a restful api   \n",
      "\n",
      "                                      email  \n",
      "0  ef5f11f77ba020cd36e1105a00ab868bbdbf7fe7  \n",
      "1  083cbdfa93c8444beaa4c5f5e0f5f9198e4f9e0b  \n",
      "2  b96a4f2e92d8572034b1e9b28f9ac673765cd074  \n",
      "3  06485706b34a5c9bf2a0ecdac41daf7e7654ceb7  \n",
      "4  f01220c46fc92c6e6b161b1849de11faacd7ccb2  \n",
      "<class 'pandas.core.frame.DataFrame'>\n",
      "RangeIndex: 45993 entries, 0 to 45992\n",
      "Data columns (total 4 columns):\n",
      " #   Column      Non-Null Count  Dtype \n",
      "---  ------      --------------  ----- \n",
      " 0   Unnamed: 0  45993 non-null  int64 \n",
      " 1   article_id  45993 non-null  int32 \n",
      " 2   title       45993 non-null  object\n",
      " 3   email       45993 non-null  object\n",
      "dtypes: int32(1), int64(1), object(2)\n",
      "memory usage: 1.2+ MB\n",
      "None\n"
     ]
    }
   ],
   "source": [
    "print(df.head())  # Verify email/user_id setup\n",
    "print(df.info())  # Ensure data types are what we expect"
   ]
  },
  {
   "cell_type": "code",
   "execution_count": 23,
   "metadata": {},
   "outputs": [
    {
     "name": "stdout",
     "output_type": "stream",
     "text": [
      "The most viewed article ID: 1429\n",
      "The most viewed article was read 937 times.\n",
      "<class 'int'>\n"
     ]
    }
   ],
   "source": [
    "\n",
    "article_views = df.groupby('article_id').size()  # Count interactions per article\n",
    "\n",
    "# Extract correct article ID but keep it as an integer to match test expectations\n",
    "most_viewed_article_id = int(article_views.idxmax())\n",
    "max_views = int(article_views.max())\n",
    "print(f\"The most viewed article ID: {most_viewed_article_id}\")\n",
    "print(f\"The most viewed article was read {max_views} times.\")\n",
    "print(type(most_viewed_article_id))  # Should confirm it's an intege\n",
    "\n",
    "\n"
   ]
  },
  {
   "cell_type": "code",
   "execution_count": 24,
   "metadata": {},
   "outputs": [
    {
     "data": {
      "text/html": [
       "<div>\n",
       "<style scoped>\n",
       "    .dataframe tbody tr th:only-of-type {\n",
       "        vertical-align: middle;\n",
       "    }\n",
       "\n",
       "    .dataframe tbody tr th {\n",
       "        vertical-align: top;\n",
       "    }\n",
       "\n",
       "    .dataframe thead th {\n",
       "        text-align: right;\n",
       "    }\n",
       "</style>\n",
       "<table border=\"1\" class=\"dataframe\">\n",
       "  <thead>\n",
       "    <tr style=\"text-align: right;\">\n",
       "      <th></th>\n",
       "      <th>Unnamed: 0</th>\n",
       "      <th>article_id</th>\n",
       "      <th>title</th>\n",
       "      <th>user_id</th>\n",
       "    </tr>\n",
       "  </thead>\n",
       "  <tbody>\n",
       "    <tr>\n",
       "      <th>0</th>\n",
       "      <td>0</td>\n",
       "      <td>1430</td>\n",
       "      <td>using pixiedust for fast, flexible, and easier...</td>\n",
       "      <td>1</td>\n",
       "    </tr>\n",
       "    <tr>\n",
       "      <th>1</th>\n",
       "      <td>1</td>\n",
       "      <td>1314</td>\n",
       "      <td>healthcare python streaming application demo</td>\n",
       "      <td>2</td>\n",
       "    </tr>\n",
       "    <tr>\n",
       "      <th>2</th>\n",
       "      <td>2</td>\n",
       "      <td>1429</td>\n",
       "      <td>use deep learning for image classification</td>\n",
       "      <td>3</td>\n",
       "    </tr>\n",
       "    <tr>\n",
       "      <th>3</th>\n",
       "      <td>3</td>\n",
       "      <td>1338</td>\n",
       "      <td>ml optimization using cognitive assistant</td>\n",
       "      <td>4</td>\n",
       "    </tr>\n",
       "    <tr>\n",
       "      <th>4</th>\n",
       "      <td>4</td>\n",
       "      <td>1276</td>\n",
       "      <td>deploy your python model as a restful api</td>\n",
       "      <td>5</td>\n",
       "    </tr>\n",
       "  </tbody>\n",
       "</table>\n",
       "</div>"
      ],
      "text/plain": [
       "   Unnamed: 0  article_id                                              title  \\\n",
       "0           0        1430  using pixiedust for fast, flexible, and easier...   \n",
       "1           1        1314       healthcare python streaming application demo   \n",
       "2           2        1429         use deep learning for image classification   \n",
       "3           3        1338          ml optimization using cognitive assistant   \n",
       "4           4        1276          deploy your python model as a restful api   \n",
       "\n",
       "   user_id  \n",
       "0        1  \n",
       "1        2  \n",
       "2        3  \n",
       "3        4  \n",
       "4        5  "
      ]
     },
     "execution_count": 24,
     "metadata": {},
     "output_type": "execute_result"
    }
   ],
   "source": [
    "## No need to change the code here - this will be helpful for later parts of the notebook\n",
    "# Run this cell to map the user email to a user_id column and remove the email column\n",
    "\n",
    "def email_mapper(df=df):\n",
    "    coded_dict = {\n",
    "        email: num \n",
    "        for num, email in enumerate(df['email'].unique(), start=1)\n",
    "    }\n",
    "    return [coded_dict[val] for val in df['email']]\n",
    "\n",
    "df['user_id'] = email_mapper(df)\n",
    "del df['email']\n",
    "\n",
    "# show header\n",
    "df.head()"
   ]
  },
  {
   "cell_type": "code",
   "execution_count": 25,
   "metadata": {},
   "outputs": [
    {
     "name": "stdout",
     "output_type": "stream",
     "text": [
      "<class 'int'>\n",
      "Index(['Unnamed: 0', 'article_id', 'title', 'user_id'], dtype='object')\n"
     ]
    }
   ],
   "source": [
    "print(type(most_viewed_article_id))# here i am checking again that article id is still a string\n",
    "print(df.columns)  # Verify if 'email' still exists"
   ]
  },
  {
   "cell_type": "code",
   "execution_count": 26,
   "metadata": {},
   "outputs": [
    {
     "name": "stdout",
     "output_type": "stream",
     "text": [
      "Max views calculated: 937\n",
      "Unique article count: 714\n",
      "Total user interactions: 45993\n"
     ]
    }
   ],
   "source": [
    "print(\"Max views calculated:\", max_views)\n",
    "print(\"Unique article count:\", df['article_id'].nunique()) \n",
    "print(\"Total user interactions:\", df.shape[0])  # Verify dataset size"
   ]
  },
  {
   "cell_type": "markdown",
   "metadata": {},
   "source": [
    "Here we have our data set mapped emails to user ID and we removed emails column. We will be interacting with user_id instead email addresses"
   ]
  },
  {
   "cell_type": "code",
   "execution_count": 28,
   "metadata": {},
   "outputs": [
    {
     "name": "stdout",
     "output_type": "stream",
     "text": [
      "It looks like you have everything right here! Nice job!\n"
     ]
    }
   ],
   "source": [
    "## If you stored all your results in the variable names above, \n",
    "## you shouldn't need to change anything in this cell\n",
    "\n",
    "sol_1_dict = {\n",
    "    '`50% of individuals have _____ or fewer interactions.`': median_val,\n",
    "    '`The total number of user-article interactions in the dataset is ______.`': user_article_interactions,\n",
    "    '`The maximum number of user-article interactions by any 1 user is ______.`': max_views_by_user,\n",
    "    '`The most viewed article in the dataset was viewed _____ times.`': max_views,\n",
    "    '`The article_id of the most viewed article is ______.`': most_viewed_article_id,\n",
    "    '`The number of unique articles that have at least 1 rating ______.`': unique_articles,\n",
    "    '`The number of unique users in the dataset is ______`': unique_users,\n",
    "    '`The number of unique articles on the IBM platform`': total_articles\n",
    "}\n",
    "\n",
    "\n",
    "\n",
    "\n",
    "# Test your dictionary against the solution\n",
    "t.sol_1_test(sol_1_dict)"
   ]
  },
  {
   "cell_type": "markdown",
   "metadata": {},
   "source": [
    "### <a class=\"anchor\" id=\"Rank\">Part II: Rank-Based Recommendations</a>\n",
    "\n",
    "In this project, we don't actually have ratings for whether a user liked an article or not.  We only know that a user has interacted with an article. In these cases, the popularity of an article can really only be based on how often an article was interacted with.\n",
    "\n",
    "`1.` Fill in the function below to return the **n** top articles ordered with most interactions as the top. Test your function using the tests below."
   ]
  },
  {
   "cell_type": "code",
   "execution_count": 30,
   "metadata": {},
   "outputs": [],
   "source": [
    "def get_top_articles(n, df=df):\n",
    "    \"\"\"\n",
    "    INPUT:\n",
    "    n - (int) the number of top articles to return\n",
    "    df - (pandas dataframe) df as defined at the top of the notebook \n",
    "    \n",
    "    OUTPUT:\n",
    "    top_articles - (list) A list of the top 'n' article titles \n",
    "    \n",
    "    \"\"\"\n",
    "    top_articles = df['title'].value_counts().head(n).index.tolist()\n",
    "\n",
    "    \n",
    "    return top_articles # Return the top article titles from df\n",
    "\n",
    "def get_top_article_ids(n, df=df):\n",
    "    \"\"\"\n",
    "    INPUT:\n",
    "    n - (int) the number of top articles to return\n",
    "    df - (pandas dataframe) df as defined at the top of the notebook \n",
    "\n",
    "    OUTPUT:\n",
    "    top_article_ids - (list) A list of the top 'n' article IDs \n",
    "    \"\"\"\n",
    "    top_article_ids = df['article_id'].value_counts().head(n).index.tolist()\n",
    "\n",
    "    return top_article_ids  # Return the correct value (article IDs)"
   ]
  },
  {
   "cell_type": "code",
   "execution_count": 31,
   "metadata": {},
   "outputs": [
    {
     "name": "stdout",
     "output_type": "stream",
     "text": [
      "['use deep learning for image classification', 'insights from new york car accident reports', 'visualize car data with brunel', 'use xgboost, scikit-learn & ibm watson machine learning apis', 'predicting churn with the spss random tree algorithm', 'healthcare python streaming application demo', 'finding optimal locations of new store using decision optimization', 'apache spark lab, part 1: basic concepts', 'analyze energy consumption in buildings', 'gosales transactions for logistic regression model']\n",
      "[1429, 1330, 1431, 1427, 1364, 1314, 1293, 1170, 1162, 1304]\n"
     ]
    }
   ],
   "source": [
    "print(get_top_articles(10))\n",
    "print(get_top_article_ids(10))"
   ]
  },
  {
   "cell_type": "code",
   "execution_count": 32,
   "metadata": {},
   "outputs": [
    {
     "name": "stdout",
     "output_type": "stream",
     "text": [
      "Your top_5 looks like the solution list! Nice job.\n",
      "Your top_10 looks like the solution list! Nice job.\n",
      "Your top_20 looks like the solution list! Nice job.\n"
     ]
    }
   ],
   "source": [
    "# Test your function by returning the top 5, 10, and 20 articles\n",
    "top_5 = get_top_articles(5)\n",
    "top_10 = get_top_articles(10)\n",
    "top_20 = get_top_articles(20)\n",
    "\n",
    "# Test each of your three lists from above\n",
    "t.sol_2_test(get_top_articles)"
   ]
  },
  {
   "cell_type": "markdown",
   "metadata": {},
   "source": [
    "### <a class=\"anchor\" id=\"User-User\">Part III: User-User Based Collaborative Filtering</a>\n",
    "\n",
    "\n",
    "`1.` Use the function below to reformat the **df** dataframe to be shaped with users as the rows and articles as the columns.  \n",
    "\n",
    "* Each **user** should only appear in each **row** once.\n",
    "\n",
    "\n",
    "* Each **article** should only show up in one **column**.  \n",
    "\n",
    "\n",
    "* **If a user has interacted with an article, then place a 1 where the user-row meets for that article-column**.  It does not matter how many times a user has interacted with the article, all entries where a user has interacted with an article should be a 1.  \n",
    "\n",
    "\n",
    "* **If a user has not interacted with an item, then place a zero where the user-row meets for that article-column**. \n",
    "\n",
    "Use the tests to make sure the basic structure of your matrix matches what is expected by the solution."
   ]
  },
  {
   "cell_type": "code",
   "execution_count": 34,
   "metadata": {},
   "outputs": [
    {
     "name": "stderr",
     "output_type": "stream",
     "text": [
      "C:\\Users\\chone\\AppData\\Local\\Temp\\ipykernel_2168\\762836244.py:19: FutureWarning: DataFrame.applymap has been deprecated. Use DataFrame.map instead.\n",
      "  user_item = user_item.applymap(lambda x: 1 if x > 0 else 0)\n"
     ]
    },
    {
     "name": "stdout",
     "output_type": "stream",
     "text": [
      "article_id  0     2     4     8     9     12    14    15    16    18    ...  \\\n",
      "user_id                                                                 ...   \n",
      "1              0     0     0     0     0     0     0     0     0     0  ...   \n",
      "2              0     0     0     0     0     0     0     0     0     0  ...   \n",
      "3              0     0     0     0     0     1     0     0     0     0  ...   \n",
      "4              0     0     0     0     0     0     0     0     0     0  ...   \n",
      "5              0     0     0     0     0     0     0     0     0     0  ...   \n",
      "\n",
      "article_id  1434  1435  1436  1437  1439  1440  1441  1442  1443  1444  \n",
      "user_id                                                                 \n",
      "1              0     0     1     0     1     0     0     0     0     0  \n",
      "2              0     0     0     0     0     0     0     0     0     0  \n",
      "3              0     0     1     0     0     0     0     0     0     0  \n",
      "4              0     0     0     0     0     0     0     0     0     0  \n",
      "5              0     0     0     0     0     0     0     0     0     0  \n",
      "\n",
      "[5 rows x 714 columns]\n"
     ]
    }
   ],
   "source": [
    "# create the user-article matrix with 1's and 0's\n",
    "\n",
    "def create_user_item_matrix(df, fill_value=0):\n",
    "    \"\"\"\n",
    "    INPUT:\n",
    "    df - pandas dataframe with article_id, title, user_id columns\n",
    "    \n",
    "    OUTPUT:\n",
    "    user_item - user item matrix \n",
    "    \n",
    "    Description:\n",
    "    Return a matrix with user ids as rows and article ids on the columns with 1 values where a user interacted with \n",
    "    an article and a 0 otherwise\n",
    "    \"\"\"\n",
    "    # Fill in the function here\n",
    "    user_item = df.groupby(['user_id', 'article_id']).size().unstack(fill_value=fill_value)\n",
    "    \n",
    "    # Convert all nonzero values to `1` to ensure duplicate interactions are ignored\n",
    "    user_item = user_item.applymap(lambda x: 1 if x > 0 else 0)\n",
    "    \n",
    "    return user_item  # Return the corrected user-item matrix\n",
    "\n",
    "#I create the user-item matrix\n",
    "user_item = create_user_item_matrix(df)\n",
    "\n",
    "# Check result\n",
    "print(user_item.head())  # displays first few rows to verify structure\n"
   ]
  },
  {
   "cell_type": "code",
   "execution_count": 35,
   "metadata": {},
   "outputs": [
    {
     "name": "stdout",
     "output_type": "stream",
     "text": [
      "36\n"
     ]
    }
   ],
   "source": [
    "#debugging\n",
    "print(user_item.loc[1].sum())  # Should return 36"
   ]
  },
  {
   "cell_type": "code",
   "execution_count": 36,
   "metadata": {},
   "outputs": [
    {
     "name": "stdout",
     "output_type": "stream",
     "text": [
      "You have passed our quick tests!  Please proceed!\n"
     ]
    }
   ],
   "source": [
    "## Tests: You should just need to run this cell.  Don't change the code.\n",
    "assert user_item.shape[0] == 5149, \"Oops!  The number of users in the user-article matrix doesn't look right.\"\n",
    "assert user_item.shape[1] == 714, \"Oops!  The number of articles in the user-article matrix doesn't look right.\"\n",
    "assert user_item.sum(axis=1)[1] == 36, \"Oops!  The number of articles seen by user 1 doesn't look right.\"\n",
    "print(\"You have passed our quick tests!  Please proceed!\")"
   ]
  },
  {
   "cell_type": "markdown",
   "metadata": {},
   "source": [
    "`2.` Complete the function below which should take a user_id and provide an ordered list of the most similar users to that user (from most similar to least similar).  The returned result should not contain the provided user_id, as we know that each user is similar to him/herself. Because the results for each user here are binary, it (perhaps) makes sense to compute similarity as the dot product of two users. \n",
    "\n",
    "Use the tests to test your function."
   ]
  },
  {
   "cell_type": "code",
   "execution_count": 38,
   "metadata": {},
   "outputs": [],
   "source": [
    "# Lets use the cosine_similarity function from sklearn\n",
    "from sklearn.metrics.pairwise import cosine_similarity"
   ]
  },
  {
   "cell_type": "code",
   "execution_count": 39,
   "metadata": {},
   "outputs": [],
   "source": [
    "def find_similar_users(user_id, user_item=user_item, include_similarity=False):\n",
    "    \"\"\"\n",
    "    INPUT:\n",
    "    user_id - (int) a user_id\n",
    "    user_item - (pandas dataframe) matrix of users by articles: \n",
    "                1's when a user has interacted with an article, 0 otherwise\n",
    "    include_similarity - (bool) whether to include the similarity in the output\n",
    "    \n",
    "    OUTPUT:\n",
    "    similar_users - (list) an ordered list where the closest users (largest dot product users)\n",
    "                    are listed first\n",
    "    \n",
    "    Description:\n",
    "    Computes the similarity of every pair of users based on the dot product\n",
    "    Returns an ordered list of user ids. If include_similarity is True, returns a list of lists\n",
    "    where the first element is the user id and the second the similarity.\n",
    "    \n",
    "    \"\"\"\n",
    "    \n",
    "    \n",
    "#Here i compute similarity of each user to the provided user\n",
    "    similarity_matrix = cosine_similarity(user_item)\n",
    "\n",
    "    # Sort by similarity\n",
    "    user_idx = user_item.index.get_loc(user_id)  # Get row index of user_id\n",
    "    similarity_scores = similarity_matrix[user_idx]  # Extract similarity scores\n",
    "\n",
    "    # Remove the own user's id\n",
    "    sim_df = pd.DataFrame({'user_id': user_item.index, 'similarity': similarity_scores})\n",
    "    sim_df = sim_df[sim_df['user_id'] != user_id].sort_values(by='similarity', ascending=False)\n",
    "\n",
    "    # Create list of just the ids\n",
    "    most_similar_users = sim_df['user_id'].tolist()\n",
    "\n",
    "    # Create list of just the similarities\n",
    "    if include_similarity:\n",
    "        return sim_df.to_numpy().tolist()  # Slight optimization\n",
    "\n",
    "    \n",
    "    return most_similar_users  # Return a list of the users in order from most to least similar\n",
    "    "
   ]
  },
  {
   "cell_type": "code",
   "execution_count": 40,
   "metadata": {},
   "outputs": [
    {
     "name": "stdout",
     "output_type": "stream",
     "text": [
      "The 10 most similar users to user 1 are: [3933, 46, 4201, 253, 824, 5034, 5041, 136, 2305, 395]\n",
      "The 5 most similar users to user 3933 are: [1, 4201, 46, 253, 5034]\n",
      "The 3 most similar users to user 46 are: [4201, 790, 5077]\n"
     ]
    }
   ],
   "source": [
    "# Do a spot check of your function\n",
    "print(\"The 10 most similar users to user 1 are: {}\".format(find_similar_users(1)[:10]))\n",
    "print(\"The 5 most similar users to user 3933 are: {}\".format(find_similar_users(3933)[:5]))\n",
    "print(\"The 3 most similar users to user 46 are: {}\".format(find_similar_users(46)[:3]))"
   ]
  },
  {
   "cell_type": "markdown",
   "metadata": {},
   "source": [
    "`3.` Now that you have a function that provides the most similar users to each user, you will want to use these users to find articles you can recommend.  Complete the functions below to return the articles you would recommend to each user. "
   ]
  },
  {
   "cell_type": "code",
   "execution_count": 42,
   "metadata": {},
   "outputs": [],
   "source": [
    "def get_article_names(article_ids, df=df):\n",
    "    \"\"\"\n",
    "    INPUT:\n",
    "    article_ids - (list) a list of article ids\n",
    "    df - (pandas dataframe) df as defined at the top of the notebook\n",
    "    \n",
    "    OUTPUT:\n",
    "    article_names - (list) a list of article names associated with the list of article ids \n",
    "                    (this is identified by the title column in df)\n",
    "    \"\"\"\n",
    "    article_names = df[df['article_id'].isin(article_ids)]['title'].unique().tolist()\n",
    "    \n",
    "    \n",
    "    \n",
    "    return article_names # Return the article names associated with list of article ids\n",
    "\n",
    "def get_ranked_article_unique_counts(article_ids, user_item=user_item):\n",
    "    \"\"\"\n",
    "    INPUT:\n",
    "    user_id - (int) a user id\n",
    "    user_item - (pandas dataframe) matrix of users by articles: \n",
    "                1's when a user has interacted with an article, 0 otherwise \n",
    "    \n",
    "    OUTPUT:\n",
    "    article_counts - (list) a list of tuples with article_id and number of \n",
    "                     unique users that have interacted with the article, sorted\n",
    "                     by the number of unique users in descending order\n",
    "    \n",
    "    Description:\n",
    "    Provides a list of the article_ids and the number of unique users that have\n",
    "    interacted with the article using the user_item matrix, sorted by the number\n",
    "    of unique users in descending order\n",
    "    \"\"\"\n",
    "\n",
    "\n",
    "    # Count unique users per article (removes duplicate interactions)\n",
    "    article_counts = user_item[article_ids].astype(bool).sum(axis=0)\n",
    "\n",
    "    # Sort articles by unique user count (ensuring descending order)\n",
    "    ranked_article_unique_counts = article_counts.sort_values(ascending=False).reset_index().values.tolist()\n",
    "\n",
    "    return ranked_article_unique_counts\n",
    "\n",
    "\n",
    "\n",
    "\n",
    "\n",
    "\n",
    "def get_user_articles(user_id, user_item=user_item):\n",
    "    \"\"\"\n",
    "    INPUT:\n",
    "    user_id - (int) a user id\n",
    "    user_item - (pandas dataframe) matrix of users by articles: \n",
    "                1's when a user has interacted with an article, 0 otherwise\n",
    "    \n",
    "    OUTPUT:\n",
    "    article_ids - (list) a list of the article ids seen by the user\n",
    "    article_names - (list) a list of article names associated with the list of article ids \n",
    "                    (this is identified by the title column in df)\n",
    "    \n",
    "    Description:\n",
    "    Provides a list of the article_ids and article titles that have been seen by a user\n",
    "    \"\"\"\n",
    "    # Get article IDs user interacted with\n",
    "    article_ids = user_item.loc[user_id][user_item.loc[user_id] == 1].index.tolist()\n",
    "\n",
    "    # Get corresponding article names\n",
    "    article_names = get_article_names(article_ids, df)\n",
    "\n",
    "\n",
    "    \n",
    "    return article_ids, article_names # return the ids and names\n",
    "\n",
    "\n",
    "def user_user_recs(user_id, m=10):\n",
    "    \"\"\"\n",
    "    INPUT:\n",
    "    user_id - (int) a user id\n",
    "    m - (int) the number of recommendations you want for the user\n",
    "    \n",
    "    OUTPUT:\n",
    "    recs - (list) a list of recommendations for the user\n",
    "    \n",
    "    Description:\n",
    "    Loops through the users based on closeness to the input user_id\n",
    "    For each user - finds articles the user hasn't seen before and provides them as recs\n",
    "    Does this until m recommendations are found\n",
    "    \n",
    "    Notes:\n",
    "    Users who are the same closeness are chosen arbitrarily as the 'next' user\n",
    "    \n",
    "    For the user where the number of recommended articles starts below m \n",
    "    and ends exceeding m, the last items are chosen arbitrarily\n",
    "    \n",
    "    \"\"\"\n",
    "    # Get user's seen articles\n",
    "    user_articles, _ = get_user_articles(user_id, user_item)\n",
    "\n",
    "    # Get most similar users\n",
    "    similar_users = find_similar_users(user_id, user_item)\n",
    "\n",
    "    # Initialize recommendations list\n",
    "    recs = set()\n",
    "\n",
    "    # Loop through similar users to collect new articles\n",
    "    for sim_user in similar_users:\n",
    "        sim_articles, _ = get_user_articles(sim_user, user_item)\n",
    "        new_articles = set(sim_articles) - set(user_articles)  # Articles user hasn’t seen\n",
    "        \n",
    "        recs.update(new_articles)  #add unseen articles\n",
    "        \n",
    "        if len(recs) >= m:  #I stop if I have enough recommendations\n",
    "            break\n",
    "\n",
    "    \n",
    "    \n",
    "    return recs # return your recommendations for this user_id    "
   ]
  },
  {
   "cell_type": "code",
   "execution_count": 43,
   "metadata": {},
   "outputs": [
    {
     "name": "stdout",
     "output_type": "stream",
     "text": [
      "[1330, 1429, 1364, 1314, 1398, 1431, 1271, 1427, 1160, 43, 1351, 1336, 1304, 1436, 1368]\n"
     ]
    }
   ],
   "source": [
    "#debugging\n",
    "ranked_articles = get_ranked_article_unique_counts(user_item.columns.tolist(), user_item)\n",
    "print([article[0] for article in ranked_articles[:15]])  # Print top-ranked articles"
   ]
  },
  {
   "cell_type": "code",
   "execution_count": 44,
   "metadata": {},
   "outputs": [
    {
     "name": "stdout",
     "output_type": "stream",
     "text": [
      "article_id\n",
      "1293    225\n",
      "1162    245\n",
      "1170    279\n",
      "dtype: int64\n"
     ]
    }
   ],
   "source": [
    "print(user_item.sum(axis=0).loc[[1293, 1162, 1170]])  # Check their interaction counts"
   ]
  },
  {
   "cell_type": "code",
   "execution_count": 45,
   "metadata": {},
   "outputs": [
    {
     "data": {
      "text/plain": [
       "['the nurse assignment problem',\n",
       " 'predicting churn with the spss random tree algorithm',\n",
       " 'analyze energy consumption in buildings',\n",
       " 'analyze open data sets with pandas dataframes',\n",
       " 'access mysql with r',\n",
       " 'leverage python, scikit, and text classification for behavioral profiling',\n",
       " 'use sql with data in hadoop python',\n",
       " 'pixieapp for outlier detection',\n",
       " 'model bike sharing data with spss',\n",
       " 'data visualization with r: scrum metrics',\n",
       " '15 page tutorial for r',\n",
       " '1448    i ranked every intro to data science course on...\\nName: title, dtype: object',\n",
       " 'workflow in r',\n",
       " 'challenges in deep learning',\n",
       " 'awesome deep learning papers',\n",
       " 'the pandas data analysis library',\n",
       " 'word2vec in data products',\n",
       " 'how to write the first for loop in r',\n",
       " 'this week in data science (april 18, 2017)',\n",
       " 'ml algorithm != learning machine',\n",
       " 'improving the roi of big data and analytics through leveraging new sources of data',\n",
       " 'this week in data science (may 2, 2017)',\n",
       " 'using apply, sapply, lapply in r',\n",
       " 'how can data scientists collaborate to build better business',\n",
       " 'top 20 r machine learning and data science packages',\n",
       " 'country statistics: airports',\n",
       " 'do i need to learn r?']"
      ]
     },
     "execution_count": 45,
     "metadata": {},
     "output_type": "execute_result"
    }
   ],
   "source": [
    "# Check Results\n",
    "get_article_names(user_user_recs(1, 10)) # Return 10 recommendations for user 1"
   ]
  },
  {
   "cell_type": "code",
   "execution_count": 46,
   "metadata": {},
   "outputs": [
    {
     "data": {
      "text/plain": [
       "[[1320, 123], [844, 78], [232, 62]]"
      ]
     },
     "execution_count": 46,
     "metadata": {},
     "output_type": "execute_result"
    }
   ],
   "source": [
    "get_ranked_article_unique_counts([1320, 232, 844])"
   ]
  },
  {
   "cell_type": "code",
   "execution_count": 47,
   "metadata": {},
   "outputs": [
    {
     "name": "stdout",
     "output_type": "stream",
     "text": [
      "If this is all you see, you passed all of our tests!  Nice job!\n"
     ]
    }
   ],
   "source": [
    "# Test your functions here - No need to change this code - just run this cell\n",
    "assert set(get_article_names([1024, 1176, 1305, 1314, 1422, 1427])) == set(['using deep learning to reconstruct high-resolution audio', 'build a python app on the streaming analytics service', 'gosales transactions for naive bayes model', 'healthcare python streaming application demo', 'use r dataframes & ibm watson natural language understanding', 'use xgboost, scikit-learn & ibm watson machine learning apis']), \"Oops! Your the get_article_names function doesn't work quite how we expect.\"\n",
    "assert set(get_article_names([1320, 232, 844])) == set(['housing (2015): united states demographic measures','self-service data preparation with ibm data refinery','use the cloudant-spark connector in python notebook']), \"Oops! Your the get_article_names function doesn't work quite how we expect.\"\n",
    "assert set(get_user_articles(20)[0]) == set([1320, 232, 844])\n",
    "assert set(get_user_articles(20)[1]) == set(['housing (2015): united states demographic measures', 'self-service data preparation with ibm data refinery','use the cloudant-spark connector in python notebook'])\n",
    "assert set(get_user_articles(2)[0]) == set([1024, 1176, 1305, 1314, 1422, 1427])\n",
    "assert set(get_user_articles(2)[1]) == set(['using deep learning to reconstruct high-resolution audio', 'build a python app on the streaming analytics service', 'gosales transactions for naive bayes model', 'healthcare python streaming application demo', 'use r dataframes & ibm watson natural language understanding', 'use xgboost, scikit-learn & ibm watson machine learning apis'])\n",
    "assert get_ranked_article_unique_counts([1320, 232, 844])[0] == [1320, 123], \"Oops! Your the get_ranked_article_unique_counts function doesn't work quite how we expect.\\nMake sure you are using the user_item matrix to create the article counts.\"\n",
    "print(\"If this is all you see, you passed all of our tests!  Nice job!\")"
   ]
  },
  {
   "cell_type": "markdown",
   "metadata": {},
   "source": [
    "`4.` Now we are going to improve the consistency of the **user_user_recs** function from above.  \n",
    "\n",
    "* Instead of arbitrarily choosing when we obtain users who are all the same closeness to a given user - choose the users that have the most total article interactions before choosing those with fewer article interactions.\n",
    "\n",
    "\n",
    "* Instead of arbitrarily choosing articles from the user where the number of recommended articles starts below m and ends exceeding m, choose articles with the articles with the most total interactions before choosing those with fewer total interactions. This ranking should be  what would be obtained from the **top_articles** function you wrote earlier."
   ]
  },
  {
   "cell_type": "code",
   "execution_count": 49,
   "metadata": {},
   "outputs": [],
   "source": [
    "def get_top_sorted_users(user_id, user_item=user_item):\n",
    "    \"\"\"\n",
    "    INPUT:\n",
    "    user_id - (int)\n",
    "    user_item - (pandas dataframe) matrix of users by articles: \n",
    "            1's when a user has interacted with an article, 0 otherwise\n",
    "    \n",
    "            \n",
    "    OUTPUT:\n",
    "    neighbors_df - (pandas dataframe) a dataframe with:\n",
    "                    neighbor_id - is a neighbor user_id\n",
    "                    similarity - measure of the similarity of each user to the provided user_id\n",
    "                    num_interactions - the number of articles viewed by the user\n",
    "                    \n",
    "    Other Details - sort the neighbors_df by the similarity and then by number of interactions where \n",
    "                    highest of each is higher in the dataframe, i.e. Descending order\n",
    "     \n",
    "    \"\"\"\n",
    "    # Compute similarity of each user to the provided user\n",
    "    similarity_matrix = cosine_similarity(user_item)\n",
    "    user_idx = user_item.index.get_loc(user_id)\n",
    "    similarity_scores = similarity_matrix[user_idx]\n",
    "\n",
    "    # Create dataframe for neighbors\n",
    "    neighbors_df = pd.DataFrame({\n",
    "        'neighbor_id': user_item.index,\n",
    "        'similarity': similarity_scores,\n",
    "        'num_interactions': user_item.sum(axis=1)  # Total articles viewed per user\n",
    "    })\n",
    "\n",
    "    # Remove the provided user from the results\n",
    "    neighbors_df = neighbors_df[neighbors_df['neighbor_id'] != user_id]\n",
    "\n",
    "    # Sort by similarity first, then by number of interactions\n",
    "    neighbors_df = neighbors_df.sort_values(by=['similarity', 'num_interactions'], ascending=[False, False])\n",
    "\n",
    "    return neighbors_df  # Return sorted neighbors dataframe\n",
    "\n",
    "\n",
    "\n",
    "def user_user_recs_part2(user_id, m=10):\n",
    "    \"\"\"\n",
    "    INPUT:\n",
    "    user_id - (int) a user id\n",
    "    m - (int) the number of recommendations you want for the user\n",
    "    \n",
    "    OUTPUT:\n",
    "    recs - (list) a list of recommendations for the user by article id\n",
    "    rec_names - (list) a list of recommendations for the user by article title\n",
    "    \n",
    "    Description:\n",
    "    Loops through the users based on closeness to the input user_id\n",
    "    For each user - finds articles the user hasn't seen before and provides them as recs\n",
    "    Does this until m recommendations are found\n",
    "    \n",
    "    Notes:\n",
    "    * Choose the users that have the most total article interactions \n",
    "    before choosing those with fewer article interactions.\n",
    "\n",
    "    * Choose articles with the articles with the most total interactions \n",
    "    before choosing those with fewer total interactions. \n",
    "   \n",
    "    \"\"\"\n",
    "    # Get user's viewed articles\n",
    "    user_articles, _ = get_user_articles(user_id, user_item)\n",
    "\n",
    "    # Get sorted similar users based on engagement and similarity\n",
    "    top_users_df = get_top_sorted_users(user_id, user_item)\n",
    "\n",
    "    recs = set()\n",
    "\n",
    "    # Loop through top similar users in order\n",
    "    for sim_user in top_users_df['neighbor_id']:\n",
    "        sim_articles, _ = get_user_articles(sim_user, user_item)\n",
    "        new_articles = set(sim_articles) - set(user_articles)  # Find unseen articles\n",
    "        \n",
    "        # Rank new articles based on popularity\n",
    "        ranked_articles = get_ranked_article_unique_counts(list(new_articles), user_item)\n",
    "        sorted_articles = [article[0] for article in ranked_articles]  # Extract only article IDs\n",
    "\n",
    "        recs.update(sorted_articles)  # Add ranked articles\n",
    "        \n",
    "        if len(recs) >= m:  # Stop when we have enough recommendations\n",
    "            break\n",
    "\n",
    "    \n",
    "    return recs, get_article_names(recs) # return your recommendations for this user_id"
   ]
  },
  {
   "cell_type": "code",
   "execution_count": 50,
   "metadata": {},
   "outputs": [
    {
     "name": "stdout",
     "output_type": "stream",
     "text": [
      "The top 10 recommendations for user 20 are the following article ids:\n",
      "{1185, 1410, 40, 1162, 1293, 1165, 1328, 1271, 1402, 254}\n",
      "\n",
      "The top 10 recommendations for user 20 are the following article names:\n",
      "['classify tumors with machine learning', 'analyze energy consumption in buildings', 'uci: sms spam collection', 'income (2015): united states demographic measures', 'analyze precipitation data', 'finding optimal locations of new store using decision optimization', 'uci: adult - predict income', 'customer demographics and sales', 'ensemble learning to improve machine learning results', 'apple, ibm add machine learning to partnership with watson-core ml coupling']\n"
     ]
    }
   ],
   "source": [
    "#Quick spot check - don't change this code - just use it to test your functions\n",
    "rec_ids, rec_names = user_user_recs_part2(20, 10)\n",
    "print(\"The top 10 recommendations for user 20 are the following article ids:\")\n",
    "print(rec_ids)\n",
    "print()\n",
    "print(\"The top 10 recommendations for user 20 are the following article names:\")\n",
    "print(rec_names)"
   ]
  },
  {
   "cell_type": "markdown",
   "metadata": {},
   "source": [
    "`5.` Use your functions from above to correctly fill in the solutions to the dictionary below.  Then test your dictionary against the solution.  Provide the code you need to answer each following the comments below."
   ]
  },
  {
   "cell_type": "code",
   "execution_count": 52,
   "metadata": {},
   "outputs": [
    {
     "name": "stdout",
     "output_type": "stream",
     "text": [
      "         neighbor_id  similarity  num_interactions\n",
      "user_id                                           \n",
      "3933            3933    0.986013                35\n",
      "         neighbor_id  similarity  num_interactions\n",
      "user_id                                           \n",
      "5083            5083    0.730297                 5\n",
      "1552            1552    0.577350                 2\n",
      "1890            1890    0.577350                 2\n",
      "1372            1372    0.471405                 3\n",
      "2941            2941    0.433013                 8\n",
      "3586            3586    0.408248                 4\n",
      "331              331    0.408248                 1\n",
      "348              348    0.408248                 1\n",
      "378              378    0.408248                 1\n",
      "496              496    0.408248                 1\n",
      "         neighbor_id  similarity  num_interactions\n",
      "user_id                                           \n",
      "3870            3870    0.986667                75\n",
      "203              203    0.388909                96\n",
      "4459            4459    0.388909                96\n",
      "3782            3782    0.387585               135\n",
      "40                40    0.384308                52\n",
      "4932            4932    0.384308                52\n",
      "23                23    0.377647               135\n",
      "242              242    0.375823                59\n",
      "3910            3910    0.372678                60\n",
      "383              383    0.367423                32\n"
     ]
    }
   ],
   "source": [
    "print(get_top_sorted_users(1, user_item=user_item).head(n=1))\n",
    "print(get_top_sorted_users(2, user_item=user_item).head(n=10))\n",
    "print(get_top_sorted_users(131, user_item=user_item).head(n=10))"
   ]
  },
  {
   "cell_type": "code",
   "execution_count": 53,
   "metadata": {},
   "outputs": [],
   "source": [
    "### Tests with a dictionary of results\n",
    "user1_most_sim = get_top_sorted_users(1, user_item=user_item).iloc[0]['neighbor_id']  # Find the user that is most similar to user 1 \n",
    "user2_6th_sim = get_top_sorted_users(2, user_item=user_item).iloc[5]['neighbor_id']  # Find the 6th most similar user to user 2\n",
    "user131_10th_sim = get_top_sorted_users(131, user_item=user_item).iloc[9]['neighbor_id']  # Find the 10th most similar user to user 131"
   ]
  },
  {
   "cell_type": "code",
   "execution_count": 54,
   "metadata": {},
   "outputs": [
    {
     "name": "stdout",
     "output_type": "stream",
     "text": [
      "This all looks good!  Nice job!\n"
     ]
    }
   ],
   "source": [
    "## Dictionary Test Here\n",
    "sol_5_dict = {\n",
    "    'The user that is most similar to user 1.': user1_most_sim, \n",
    "    'The user that is the 6th most similar to user 2.': user2_6th_sim,\n",
    "    'The user that is the 10th most similar to user 131.': user131_10th_sim,\n",
    "}\n",
    "\n",
    "t.sol_5_test(sol_5_dict)"
   ]
  },
  {
   "cell_type": "markdown",
   "metadata": {},
   "source": [
    "`6.` If we were given a new user, which of the above functions would you be able to use to make recommendations?  Explain.  Can you think of a better way we might make recommendations?  Use the cell below to explain a better method for new users."
   ]
  },
  {
   "cell_type": "markdown",
   "metadata": {},
   "source": [
    "Answer:\n",
    "\n",
    "Top articles as no user history, only can use user-user history till they start having user-item iteractions.\n",
    "\n",
    "Since a user has ot interaction history, the system cannot really use user based recommendations so far. It should suggest the most popular articles trending first. Then once the user starts reading and interacting with the articles he encounters, the system will be able to gradually process and shift to personalized recommendations. So this recommendation will be based on user user similarities"
   ]
  },
  {
   "cell_type": "markdown",
   "metadata": {},
   "source": [
    "`7.` Using your existing functions, provide the top 10 recommended articles you would provide for the a new user below.  You can test your function against our thoughts to make sure we are all on the same page with how we might make a recommendation."
   ]
  },
  {
   "cell_type": "code",
   "execution_count": 58,
   "metadata": {},
   "outputs": [
    {
     "name": "stdout",
     "output_type": "stream",
     "text": [
      "Top 10 recommended articles for new user: [1429, 1330, 1431, 1427, 1364, 1314, 1293, 1170, 1162, 1304]\n"
     ]
    }
   ],
   "source": [
    "\n",
    "# What would your recommendations be for this new user 0?  As a new user, they have no observed articles.\n",
    "# Provide a list of the top 10 article ids you would give to \n",
    "\n",
    "new_user_recs = get_top_article_ids(10)\n",
    "\n",
    "# Print results to confirm they match expectations\n",
    "print(\"Top 10 recommended articles for new user:\", new_user_recs)\n",
    "\n"
   ]
  },
  {
   "cell_type": "code",
   "execution_count": 59,
   "metadata": {},
   "outputs": [
    {
     "name": "stdout",
     "output_type": "stream",
     "text": [
      "That's right!  Nice job!\n"
     ]
    }
   ],
   "source": [
    "assert set(new_user_recs) == {1314, 1429, 1293, 1427, 1162, 1364, 1304, 1170, 1431, 1330}, \"Oops!  It makes sense that in this case we would want to recommend the most popular articles, because we don't know anything about these users.\"\n",
    "\n",
    "print(\"That's right!  Nice job!\")"
   ]
  },
  {
   "cell_type": "markdown",
   "metadata": {},
   "source": [
    "### <a class=\"anchor\" id=\"Content-Recs\">Part IV: Content Based Recommendations</a>\n",
    "\n",
    "Another method we might use to make recommendations is to recommend similar articles that are possibly related. One way we can find article relationships is by clustering text about those articles.  Let's consider content to be the article **title**, as it is the only text we have available. One point to highlight, there isn't one way to create a content based recommendation, especially considering that text information can be processed in many ways.  \n",
    "\n",
    "`1.` Use the function bodies below to create a content based recommender function `make_content_recs`. We'll use TF-IDF to create a matrix based off article titles, and use this matrix to create clusters of related articles. You can use this function to make recommendations of new articles."
   ]
  },
  {
   "cell_type": "code",
   "execution_count": 61,
   "metadata": {},
   "outputs": [
    {
     "data": {
      "text/html": [
       "<div>\n",
       "<style scoped>\n",
       "    .dataframe tbody tr th:only-of-type {\n",
       "        vertical-align: middle;\n",
       "    }\n",
       "\n",
       "    .dataframe tbody tr th {\n",
       "        vertical-align: top;\n",
       "    }\n",
       "\n",
       "    .dataframe thead th {\n",
       "        text-align: right;\n",
       "    }\n",
       "</style>\n",
       "<table border=\"1\" class=\"dataframe\">\n",
       "  <thead>\n",
       "    <tr style=\"text-align: right;\">\n",
       "      <th></th>\n",
       "      <th>Unnamed: 0</th>\n",
       "      <th>article_id</th>\n",
       "      <th>title</th>\n",
       "      <th>user_id</th>\n",
       "    </tr>\n",
       "  </thead>\n",
       "  <tbody>\n",
       "    <tr>\n",
       "      <th>0</th>\n",
       "      <td>0</td>\n",
       "      <td>1430</td>\n",
       "      <td>using pixiedust for fast, flexible, and easier...</td>\n",
       "      <td>1</td>\n",
       "    </tr>\n",
       "    <tr>\n",
       "      <th>1</th>\n",
       "      <td>1</td>\n",
       "      <td>1314</td>\n",
       "      <td>healthcare python streaming application demo</td>\n",
       "      <td>2</td>\n",
       "    </tr>\n",
       "    <tr>\n",
       "      <th>2</th>\n",
       "      <td>2</td>\n",
       "      <td>1429</td>\n",
       "      <td>use deep learning for image classification</td>\n",
       "      <td>3</td>\n",
       "    </tr>\n",
       "    <tr>\n",
       "      <th>3</th>\n",
       "      <td>3</td>\n",
       "      <td>1338</td>\n",
       "      <td>ml optimization using cognitive assistant</td>\n",
       "      <td>4</td>\n",
       "    </tr>\n",
       "    <tr>\n",
       "      <th>4</th>\n",
       "      <td>4</td>\n",
       "      <td>1276</td>\n",
       "      <td>deploy your python model as a restful api</td>\n",
       "      <td>5</td>\n",
       "    </tr>\n",
       "  </tbody>\n",
       "</table>\n",
       "</div>"
      ],
      "text/plain": [
       "   Unnamed: 0  article_id                                              title  \\\n",
       "0           0        1430  using pixiedust for fast, flexible, and easier...   \n",
       "1           1        1314       healthcare python streaming application demo   \n",
       "2           2        1429         use deep learning for image classification   \n",
       "3           3        1338          ml optimization using cognitive assistant   \n",
       "4           4        1276          deploy your python model as a restful api   \n",
       "\n",
       "   user_id  \n",
       "0        1  \n",
       "1        2  \n",
       "2        3  \n",
       "3        4  \n",
       "4        5  "
      ]
     },
     "execution_count": 61,
     "metadata": {},
     "output_type": "execute_result"
    }
   ],
   "source": [
    "df.head()"
   ]
  },
  {
   "cell_type": "code",
   "execution_count": 62,
   "metadata": {},
   "outputs": [],
   "source": [
    "from sklearn.cluster import KMeans\n",
    "from sklearn.feature_extraction.text import TfidfVectorizer\n",
    "from sklearn.pipeline import make_pipeline\n",
    "from sklearn.preprocessing import Normalizer\n",
    "from sklearn.decomposition import TruncatedSVD"
   ]
  },
  {
   "cell_type": "code",
   "execution_count": 63,
   "metadata": {},
   "outputs": [],
   "source": [
    "# unique articles\n",
    "df_unique_articles = df['title'].drop_duplicates()"
   ]
  },
  {
   "cell_type": "code",
   "execution_count": 64,
   "metadata": {},
   "outputs": [
    {
     "name": "stdout",
     "output_type": "stream",
     "text": [
      "Running TF-IDF\n",
      "n_samples: 714, n_features: 125\n",
      "Explained variance of the SVD step: 76.0%\n"
     ]
    }
   ],
   "source": [
    "# Create a vectorizer using TfidfVectorizer and fit it to the article titles\n",
    "max_features = 200\n",
    "max_df = 0.75\n",
    "min_df = 5\n",
    "\n",
    "vectorizer = TfidfVectorizer(\n",
    "    max_df=max_df,\n",
    "    min_df=min_df,\n",
    "    stop_words=\"english\",\n",
    "    max_features=max_features,\n",
    ")\n",
    "print(\"Running TF-IDF\")\n",
    "X_tfidf = vectorizer.fit_transform(df_unique_articles)\n",
    "\n",
    "print(f\"n_samples: {X_tfidf.shape[0]}, n_features: {X_tfidf.shape[1]}\")\n",
    "\n",
    "lsa = make_pipeline(TruncatedSVD(n_components=50), Normalizer(copy=False))\n",
    "X_lsa = lsa.fit_transform(X_tfidf)\n",
    "explained_variance = lsa[0].explained_variance_ratio_.sum()\n",
    "\n",
    "print(f\"Explained variance of the SVD step: {explained_variance * 100:.1f}%\")"
   ]
  },
  {
   "cell_type": "markdown",
   "metadata": {},
   "source": [
    "There are 714 number of samples of unique articles.\n",
    "There 125 unique terms were retained after filtering low frequency and high frequency words.\n",
    "The 76% Variance of SVD means that we capture 76% of the key patterns in article content"
   ]
  },
  {
   "cell_type": "code",
   "execution_count": 66,
   "metadata": {},
   "outputs": [
    {
     "data": {
      "text/plain": [
       "Text(0.5, 0, 'Number of clusters')"
      ]
     },
     "execution_count": 66,
     "metadata": {},
     "output_type": "execute_result"
    },
    {
     "data": {
      "image/png": "[encoded data removed]",
      "text/plain": [
       "<Figure size 640x480 with 1 Axes>"
      ]
     },
     "metadata": {},
     "output_type": "display_data"
    }
   ],
   "source": [
    "# Let's map the inertia for different number of clusters to find the optimal number of clusters\n",
    "# We'll plot it to see the elbow\n",
    "inertia = []\n",
    "clusters = 300\n",
    "step = 25\n",
    "max_iter = 50\n",
    "n_init = 5\n",
    "random_state = 42\n",
    "for k in range(1, clusters, step):\n",
    "    kmeans = KMeans(\n",
    "        n_clusters=k,\n",
    "        max_iter=max_iter,\n",
    "        n_init=n_init,\n",
    "        random_state=random_state,\n",
    "    ).fit(X_lsa)\n",
    "    # inertia is the sum of squared distances to the closest cluster center\n",
    "    inertia.append(kmeans.inertia_)\n",
    "plt.plot(range(1, clusters, step), inertia)\n",
    "plt.xlabel('Number of clusters')"
   ]
  },
  {
   "cell_type": "markdown",
   "metadata": {},
   "source": [
    "There appears to be an elbow about 50, so we'll use 50 clusters."
   ]
  },
  {
   "cell_type": "code",
   "execution_count": 68,
   "metadata": {},
   "outputs": [],
   "source": [
    "n_clusters = 50 # Number of clusters\n",
    "kmeans = KMeans(\n",
    "    n_clusters=n_clusters,\n",
    "    max_iter=max_iter,\n",
    "    n_init=n_init,\n",
    "    random_state=random_state\n",
    "\n",
    ").fit(X_lsa)"
   ]
  },
  {
   "cell_type": "code",
   "execution_count": 69,
   "metadata": {},
   "outputs": [],
   "source": [
    "# create a new column `title_cluster` and assign it the kmeans cluster labels\n",
    "# First we need to map the labels to df_unique_articles article ids and then apply those to df\n",
    "article_cluster_map = dict(zip(df_unique_articles, kmeans.labels_))# Map article_id to cluster label\n",
    "df['title_cluster'] = df['title'].map(article_cluster_map) # apply map to create title clusters"
   ]
  },
  {
   "cell_type": "code",
   "execution_count": 70,
   "metadata": {},
   "outputs": [
    {
     "data": {
      "text/plain": [
       "array([[ 0,  7],\n",
       "       [ 1, 20],\n",
       "       [ 2, 23],\n",
       "       [ 3,  9],\n",
       "       [ 4, 70],\n",
       "       [ 5, 47],\n",
       "       [ 6, 20],\n",
       "       [ 7, 14],\n",
       "       [ 8, 13],\n",
       "       [ 9, 30],\n",
       "       [10, 35],\n",
       "       [11, 11],\n",
       "       [12, 22],\n",
       "       [13, 20],\n",
       "       [14, 10],\n",
       "       [15,  2],\n",
       "       [16,  8],\n",
       "       [17,  7],\n",
       "       [18, 15],\n",
       "       [19, 28],\n",
       "       [20,  8],\n",
       "       [21, 11],\n",
       "       [22, 20],\n",
       "       [23, 16],\n",
       "       [24, 13],\n",
       "       [25, 14],\n",
       "       [26,  9],\n",
       "       [27,  8],\n",
       "       [28,  9],\n",
       "       [29, 10],\n",
       "       [30, 10],\n",
       "       [31, 29],\n",
       "       [32,  7],\n",
       "       [33, 16],\n",
       "       [34,  7],\n",
       "       [35, 18],\n",
       "       [36,  7],\n",
       "       [37,  7],\n",
       "       [38,  5],\n",
       "       [39,  5],\n",
       "       [40,  7],\n",
       "       [41,  9],\n",
       "       [42,  5],\n",
       "       [43, 12],\n",
       "       [44,  6],\n",
       "       [45,  6],\n",
       "       [46,  6],\n",
       "       [47,  4],\n",
       "       [48,  9],\n",
       "       [49, 10]], dtype=int64)"
      ]
     },
     "execution_count": 70,
     "metadata": {},
     "output_type": "execute_result"
    }
   ],
   "source": [
    "# Let's check the number of articles in each cluster\n",
    "np.array(np.unique(kmeans.labels_, return_counts=True)).T"
   ]
  },
  {
   "cell_type": "code",
   "execution_count": 71,
   "metadata": {},
   "outputs": [],
   "source": [
    "def get_similar_articles(article_id, df=df):\n",
    "    \"\"\"\n",
    "    INPUT:\n",
    "    article_id - (int) an article id \n",
    "    df - (pandas dataframe) df as defined at the top of the notebook \n",
    "    \n",
    "    OUTPUT:\n",
    "    article_ids - (list) a list of article ids that are in the same title cluster\n",
    "    \n",
    "    Description:\n",
    "    Returns a list of the article ids that are in the same title cluster\n",
    "    \"\"\"\n",
    "    # Get the cluster for the provided article_id\n",
    "    title_cluster = df.loc[df['article_id'] == article_id, 'title_cluster'].values[0]\n",
    "\n",
    "    # Find all articles that belong to the same cluster\n",
    "    articles_in_cluster = df[df['title_cluster'] == title_cluster]['article_id'].tolist()\n",
    "\n",
    "    # Remove the input article_id from the list\n",
    "    articles_in_cluster.remove(article_id)\n",
    "\n",
    "    \n",
    "    return articles_in_cluster"
   ]
  },
  {
   "cell_type": "code",
   "execution_count": 72,
   "metadata": {},
   "outputs": [],
   "source": [
    "def make_content_recs(article_id, n, df=df):\n",
    "    \"\"\"\n",
    "    INPUT:\n",
    "    article_id - (int) an article id\n",
    "    n - (int) the number of recommendations you want similar to the article id\n",
    "    df - (pandas dataframe) df as defined at the top of the notebook\n",
    "    \n",
    "    OUTPUT:\n",
    "    n_ranked_similar_articles - (list) a list of article ids that are in the same title cluster ranked\n",
    "                                by popularity\n",
    "    n_ranked_article_names - (list) a list of article names associated with the list of article ids\n",
    "    \n",
    "    Description:\n",
    "    Returns a list of the n most ranked similar articles to a given article_id based on the title\n",
    "    cluster in df. Rank similar articles using the function get_ranked_article_unique_counts.\n",
    "    \"\"\"\n",
    "    # Get articles in the same cluster\n",
    "    similar_articles = get_similar_articles(article_id, df)\n",
    "\n",
    "    if not similar_articles:  # If no similar articles exist, return empty lists\n",
    "        return [], []\n",
    "\n",
    "    # Rank the similar articles by interaction count\n",
    "    ranked_similar_articles = get_ranked_article_unique_counts(similar_articles, user_item)\n",
    "\n",
    "    # Extract the top `n` article IDs\n",
    "    n_ranked_similar_articles = [article[0] for article in ranked_similar_articles[:n]]\n",
    "\n",
    "    # Get article names for the top recommendations\n",
    "    n_ranked_article_names = get_article_names(n_ranked_similar_articles)\n",
    "\n",
    "    return n_ranked_similar_articles, n_ranked_article_names\n",
    "\n",
    "        "
   ]
  },
  {
   "cell_type": "code",
   "execution_count": 73,
   "metadata": {},
   "outputs": [
    {
     "name": "stdout",
     "output_type": "stream",
     "text": [
      "[1025, 1025, 1025, 1025, 1025, 1025, 1025, 1025, 1025, 1025]\n",
      "['data tidying in data science experience']\n"
     ]
    }
   ],
   "source": [
    "# Test out your content recommendations given artice_id 25\n",
    "rec_article_ids, rec_article_titles = make_content_recs(25, 10)\n",
    "print(rec_article_ids)\n",
    "print(rec_article_titles)"
   ]
  },
  {
   "cell_type": "code",
   "execution_count": 74,
   "metadata": {},
   "outputs": [],
   "source": [
    "assert len({1025, 593, 349, 821, 464, 29, 1042, 693, 524, 352}.intersection(set(rec_article_ids))) > 0, \"Oops! Your the make_content_recs function doesn't work quite how we expect.\""
   ]
  },
  {
   "cell_type": "markdown",
   "metadata": {},
   "source": [
    "`2.` Now that you have put together your content-based recommendation system, use the cell below to write a summary explaining how your content based recommender works.  Do you see any possible improvements that could be made to your function? What other text data would be useful to help make better recommendations besides the article title?"
   ]
  },
  {
   "cell_type": "markdown",
   "metadata": {},
   "source": [
    "**Write an explanation of your content based recommendation system here.**\n",
    "We try to understand the article's topics by  analysing the titles  of articles to see what they contain then articles that shares the similar words or thems are grouped together.\n",
    "\n",
    "We then orgamize articles into clusters, So we play similar articles into groups using AI powered clustering.\n",
    "\n",
    "We rank the best articles , inside each group we will check which articles users interact with the most or the most read or viewed. thent the most popular and relavant get suggested first\n",
    "\n",
    "We make recommendations, when someone reads an article we will suggests others articles in the same cluster.\n",
    "\n",
    "**How we can improve it?**\n",
    "At the moment we are only using article titles to understand the content of the article. One improvend would be to add the article's descriptions to capture more details about the article, we will be using keywords from the full article text rather that only focusing on the title."
   ]
  },
  {
   "cell_type": "markdown",
   "metadata": {},
   "source": [
    "### <a class=\"anchor\" id=\"Matrix-Fact\">Part V: Matrix Factorization</a>\n",
    "\n",
    "In this part of the notebook, you will build use matrix factorization to make article recommendations to users.\n",
    "\n",
    "`1.` You should have already created a **user_item** matrix above in **question 1** of **Part III** above.  This first question here will just require that you run the cells to get things set up for the rest of **Part V** of the notebook. "
   ]
  },
  {
   "cell_type": "code",
   "execution_count": 78,
   "metadata": {},
   "outputs": [
    {
     "data": {
      "text/html": [
       "<div>\n",
       "<style scoped>\n",
       "    .dataframe tbody tr th:only-of-type {\n",
       "        vertical-align: middle;\n",
       "    }\n",
       "\n",
       "    .dataframe tbody tr th {\n",
       "        vertical-align: top;\n",
       "    }\n",
       "\n",
       "    .dataframe thead th {\n",
       "        text-align: right;\n",
       "    }\n",
       "</style>\n",
       "<table border=\"1\" class=\"dataframe\">\n",
       "  <thead>\n",
       "    <tr style=\"text-align: right;\">\n",
       "      <th>article_id</th>\n",
       "      <th>0</th>\n",
       "      <th>2</th>\n",
       "      <th>4</th>\n",
       "      <th>8</th>\n",
       "      <th>9</th>\n",
       "      <th>12</th>\n",
       "      <th>14</th>\n",
       "      <th>15</th>\n",
       "      <th>16</th>\n",
       "      <th>18</th>\n",
       "      <th>...</th>\n",
       "      <th>1434</th>\n",
       "      <th>1435</th>\n",
       "      <th>1436</th>\n",
       "      <th>1437</th>\n",
       "      <th>1439</th>\n",
       "      <th>1440</th>\n",
       "      <th>1441</th>\n",
       "      <th>1442</th>\n",
       "      <th>1443</th>\n",
       "      <th>1444</th>\n",
       "    </tr>\n",
       "    <tr>\n",
       "      <th>user_id</th>\n",
       "      <th></th>\n",
       "      <th></th>\n",
       "      <th></th>\n",
       "      <th></th>\n",
       "      <th></th>\n",
       "      <th></th>\n",
       "      <th></th>\n",
       "      <th></th>\n",
       "      <th></th>\n",
       "      <th></th>\n",
       "      <th></th>\n",
       "      <th></th>\n",
       "      <th></th>\n",
       "      <th></th>\n",
       "      <th></th>\n",
       "      <th></th>\n",
       "      <th></th>\n",
       "      <th></th>\n",
       "      <th></th>\n",
       "      <th></th>\n",
       "      <th></th>\n",
       "    </tr>\n",
       "  </thead>\n",
       "  <tbody>\n",
       "    <tr>\n",
       "      <th>1</th>\n",
       "      <td>0</td>\n",
       "      <td>0</td>\n",
       "      <td>0</td>\n",
       "      <td>0</td>\n",
       "      <td>0</td>\n",
       "      <td>0</td>\n",
       "      <td>0</td>\n",
       "      <td>0</td>\n",
       "      <td>0</td>\n",
       "      <td>0</td>\n",
       "      <td>...</td>\n",
       "      <td>0</td>\n",
       "      <td>0</td>\n",
       "      <td>1</td>\n",
       "      <td>0</td>\n",
       "      <td>1</td>\n",
       "      <td>0</td>\n",
       "      <td>0</td>\n",
       "      <td>0</td>\n",
       "      <td>0</td>\n",
       "      <td>0</td>\n",
       "    </tr>\n",
       "    <tr>\n",
       "      <th>2</th>\n",
       "      <td>0</td>\n",
       "      <td>0</td>\n",
       "      <td>0</td>\n",
       "      <td>0</td>\n",
       "      <td>0</td>\n",
       "      <td>0</td>\n",
       "      <td>0</td>\n",
       "      <td>0</td>\n",
       "      <td>0</td>\n",
       "      <td>0</td>\n",
       "      <td>...</td>\n",
       "      <td>0</td>\n",
       "      <td>0</td>\n",
       "      <td>0</td>\n",
       "      <td>0</td>\n",
       "      <td>0</td>\n",
       "      <td>0</td>\n",
       "      <td>0</td>\n",
       "      <td>0</td>\n",
       "      <td>0</td>\n",
       "      <td>0</td>\n",
       "    </tr>\n",
       "    <tr>\n",
       "      <th>3</th>\n",
       "      <td>0</td>\n",
       "      <td>0</td>\n",
       "      <td>0</td>\n",
       "      <td>0</td>\n",
       "      <td>0</td>\n",
       "      <td>1</td>\n",
       "      <td>0</td>\n",
       "      <td>0</td>\n",
       "      <td>0</td>\n",
       "      <td>0</td>\n",
       "      <td>...</td>\n",
       "      <td>0</td>\n",
       "      <td>0</td>\n",
       "      <td>1</td>\n",
       "      <td>0</td>\n",
       "      <td>0</td>\n",
       "      <td>0</td>\n",
       "      <td>0</td>\n",
       "      <td>0</td>\n",
       "      <td>0</td>\n",
       "      <td>0</td>\n",
       "    </tr>\n",
       "    <tr>\n",
       "      <th>4</th>\n",
       "      <td>0</td>\n",
       "      <td>0</td>\n",
       "      <td>0</td>\n",
       "      <td>0</td>\n",
       "      <td>0</td>\n",
       "      <td>0</td>\n",
       "      <td>0</td>\n",
       "      <td>0</td>\n",
       "      <td>0</td>\n",
       "      <td>0</td>\n",
       "      <td>...</td>\n",
       "      <td>0</td>\n",
       "      <td>0</td>\n",
       "      <td>0</td>\n",
       "      <td>0</td>\n",
       "      <td>0</td>\n",
       "      <td>0</td>\n",
       "      <td>0</td>\n",
       "      <td>0</td>\n",
       "      <td>0</td>\n",
       "      <td>0</td>\n",
       "    </tr>\n",
       "    <tr>\n",
       "      <th>5</th>\n",
       "      <td>0</td>\n",
       "      <td>0</td>\n",
       "      <td>0</td>\n",
       "      <td>0</td>\n",
       "      <td>0</td>\n",
       "      <td>0</td>\n",
       "      <td>0</td>\n",
       "      <td>0</td>\n",
       "      <td>0</td>\n",
       "      <td>0</td>\n",
       "      <td>...</td>\n",
       "      <td>0</td>\n",
       "      <td>0</td>\n",
       "      <td>0</td>\n",
       "      <td>0</td>\n",
       "      <td>0</td>\n",
       "      <td>0</td>\n",
       "      <td>0</td>\n",
       "      <td>0</td>\n",
       "      <td>0</td>\n",
       "      <td>0</td>\n",
       "    </tr>\n",
       "  </tbody>\n",
       "</table>\n",
       "<p>5 rows × 714 columns</p>\n",
       "</div>"
      ],
      "text/plain": [
       "article_id  0     2     4     8     9     12    14    15    16    18    ...  \\\n",
       "user_id                                                                 ...   \n",
       "1              0     0     0     0     0     0     0     0     0     0  ...   \n",
       "2              0     0     0     0     0     0     0     0     0     0  ...   \n",
       "3              0     0     0     0     0     1     0     0     0     0  ...   \n",
       "4              0     0     0     0     0     0     0     0     0     0  ...   \n",
       "5              0     0     0     0     0     0     0     0     0     0  ...   \n",
       "\n",
       "article_id  1434  1435  1436  1437  1439  1440  1441  1442  1443  1444  \n",
       "user_id                                                                 \n",
       "1              0     0     1     0     1     0     0     0     0     0  \n",
       "2              0     0     0     0     0     0     0     0     0     0  \n",
       "3              0     0     1     0     0     0     0     0     0     0  \n",
       "4              0     0     0     0     0     0     0     0     0     0  \n",
       "5              0     0     0     0     0     0     0     0     0     0  \n",
       "\n",
       "[5 rows x 714 columns]"
      ]
     },
     "execution_count": 78,
     "metadata": {},
     "output_type": "execute_result"
    }
   ],
   "source": [
    "# quick look at the matrix\n",
    "user_item.head()"
   ]
  },
  {
   "cell_type": "markdown",
   "metadata": {},
   "source": [
    "`2.` In this situation, you can use Singular Value Decomposition from [scikit-learn](https://scikit-learn.org/stable/modules/generated/sklearn.decomposition.TruncatedSVD.html) on the user-item matrix.  Use the cell to perform SVD."
   ]
  },
  {
   "cell_type": "code",
   "execution_count": 80,
   "metadata": {},
   "outputs": [
    {
     "name": "stdout",
     "output_type": "stream",
     "text": [
      "u (5149, 714)\n",
      "s (714,)\n",
      "vt (714, 714)\n"
     ]
    }
   ],
   "source": [
    "from sklearn.decomposition import TruncatedSVD\n",
    "from sklearn.metrics import precision_score, recall_score, accuracy_score\n",
    "# Using the full number of components which equals the number of columns\n",
    "svd = TruncatedSVD(n_components=len(user_item.columns), n_iter=5, random_state=42)\n",
    "\n",
    "u = svd.fit_transform(user_item)\n",
    "v = svd.components_\n",
    "s = svd.singular_values_ \n",
    "print('u', u.shape)\n",
    "print('s', s.shape)\n",
    "print('vt', v.shape)"
   ]
  },
  {
   "cell_type": "markdown",
   "metadata": {},
   "source": [
    "`3.` Now for the tricky part, how do we choose the number of latent features to use?  Running the below cell, you can see that as the number of latent features increases, we obtain better metrics when making predictions for the 1 and 0 values in the user-item matrix.  Run the cell below to get an idea of how our metrics improve as we increase the number of latent features."
   ]
  },
  {
   "cell_type": "markdown",
   "metadata": {},
   "source": []
  },
  {
   "cell_type": "code",
   "execution_count": 83,
   "metadata": {},
   "outputs": [
    {
     "data": {
      "text/plain": [
       "Text(0.5, 1.0, 'Metrics vs. Number of Latent Features')"
      ]
     },
     "execution_count": 83,
     "metadata": {},
     "output_type": "execute_result"
    },
    {
     "data": {
      "image/png": "[encoded data removed]",
      "text/plain": [
       "<Figure size 640x480 with 1 Axes>"
      ]
     },
     "metadata": {},
     "output_type": "display_data"
    }
   ],
   "source": [
    "num_latent_feats = np.arange(10, 700+10, 20)\n",
    "metric_scores = []\n",
    "\n",
    "for k in num_latent_feats:\n",
    "    # restructure with k latent features\n",
    "    u_new, vt_new = u[:, :k], v[:k, :]\n",
    "    \n",
    "    # take dot product\n",
    "    user_item_est = abs(np.around(np.dot(u_new, vt_new))).astype(int)\n",
    "    # make sure the values are between 0 and 1\n",
    "    user_item_est = np.clip(user_item_est, 0, 1)\n",
    "    \n",
    "    # total errors and keep track of them\n",
    "    acc = accuracy_score(user_item.values.flatten(), user_item_est.flatten())\n",
    "    precision = precision_score(user_item.values.flatten(), user_item_est.flatten())\n",
    "    recall = recall_score(user_item.values.flatten(), user_item_est.flatten())\n",
    "    metric_scores.append([acc, precision, recall])\n",
    "    \n",
    "    \n",
    "plt.plot(num_latent_feats, metric_scores, label=['Accuracy', 'Precision', 'Recall'])\n",
    "plt.legend()\n",
    "plt.xlabel('Number of Latent Features')\n",
    "plt.title('Metrics vs. Number of Latent Features')"
   ]
  },
  {
   "cell_type": "markdown",
   "metadata": {},
   "source": [
    "What we can say about this plot is that the accuracy and the precision are quickly reaching 1.0 and remain state. This means that the model predicts correctly user interactions but maybe too confidently in its recommendations. For the recall it increases gradually and approchach 1.0 as the latent features grow. This translate by the fact that the model is getting better at identifying relevent articles."
   ]
  },
  {
   "cell_type": "markdown",
   "metadata": {},
   "source": [
    "`4.` From the above, we can't really be sure how many features to use, because simply having a better way to predict the 1's and 0's of the matrix doesn't exactly give us an indication of if we are able to make good recommendations. Given the plot above, what would you pick for the number of latent features and why?"
   ]
  },
  {
   "cell_type": "markdown",
   "metadata": {},
   "source": [
    "**Provide your response here.**\n",
    "Choosing the right number of latent features is mostly balancing detail and simplicity in recommendation. If we have fewer features this will lead the model in not capturing enough patern in user interaction. But if we have way too many, this will lead to overfitting. The system will then memorizes the old data insteado of generalizing the data well enough. After reviewing the plot, the accuracy and recall improve as we add more features, but after a certain point  it kind off level or plateau.\n",
    "My suggestions will be to choose between 50 to 100 features, we will be able to retain important trends without making the model too complex."
   ]
  },
  {
   "cell_type": "markdown",
   "metadata": {},
   "source": [
    "`5.` Using 200 latent features and the values of U, S, and V transpose we calculated above, create an article id recommendation function that finds similar article ids to the one provide.\n",
    "\n",
    "Create a list of 10 recommendations that are similar to article with id 4.  The function should provide these recommendations by finding articles that have the most similar latent features as the provided article."
   ]
  },
  {
   "cell_type": "code",
   "execution_count": 88,
   "metadata": {},
   "outputs": [],
   "source": [
    "def get_svd_similar_article_ids(article_id, vt, user_item=user_item, include_similarity=False):\n",
    "    \"\"\"\n",
    "    INPUT:\n",
    "    article_id - (int) an article id\n",
    "    vt - (numpy array) vt matrix from SVD\n",
    "    user_item - (pandas dataframe) matrix of users by articles: \n",
    "                1's when a user has interacted with an article, 0 otherwise\n",
    "    include_similarity - (bool) whether to include the similarity in the output\n",
    "    \n",
    "    OUTPUT:\n",
    "    article_ids - (list) a list of article ids that are in the same title cluster\n",
    "    \n",
    "    Description:\n",
    "    Returns a list of the article ids similar using SVD factorization\n",
    "    \"\"\"\n",
    "    # Find the index of the article_id\n",
    "    article_idx = list(user_item.columns).index(article_id)\n",
    "    # Find the cosine similarity of all articles\n",
    "    # Hint: vt should be transposed before passing to cosine_similarity to get a 714 x 714 matrix \n",
    "    cos_sim_matrix = cosine_similarity(vt.T)  # Ensure the right shape (714 x 714)\n",
    "\n",
    "    # Get similarities only for the cos_sim of the article_idx\n",
    "    article_similarities = cos_sim_matrix[article_idx]\n",
    "\n",
    "    # Sort and return the articles, don't include the own article\n",
    "    similar_indices = article_similarities.argsort()[::-1][1:11]  # Sort and exclude itself\n",
    "    most_similar_items = [list(user_item.columns)[i] for i in similar_indices]\n",
    "\n",
    "\n",
    "    if include_similarity:\n",
    "        most_similar_items_with_scores = [[list(user_item.columns)[i], article_similarities[i]] for i in similar_indices]\n",
    "        return most_similar_items_with_scores # return a list of lists with [[similar_article_id, similarity], ...]\n",
    "    return most_similar_items"
   ]
  },
  {
   "cell_type": "code",
   "execution_count": 89,
   "metadata": {},
   "outputs": [],
   "source": [
    "# Create a vt_new matrix with 200 latent features\n",
    "k = 200\n",
    "vt_new = v[:k, :]"
   ]
  },
  {
   "cell_type": "code",
   "execution_count": 90,
   "metadata": {},
   "outputs": [
    {
     "name": "stdout",
     "output_type": "stream",
     "text": [
      "Current article: analyze ny restaurant data using spark in dsx\n"
     ]
    }
   ],
   "source": [
    "# What is the article name for article_id 4?\n",
    "print(\"Current article:\", get_article_names([4], df=df)[0])"
   ]
  },
  {
   "cell_type": "code",
   "execution_count": 91,
   "metadata": {},
   "outputs": [
    {
     "data": {
      "text/plain": [
       "[1199, 1068, 486, 1202, 176, 1120, 244, 793, 58, 132]"
      ]
     },
     "execution_count": 91,
     "metadata": {},
     "output_type": "execute_result"
    }
   ],
   "source": [
    "# What are the top 10 most similar articles to article_id 4?\n",
    "rec_articles = get_svd_similar_article_ids(4, vt_new, user_item=user_item)[:10]\n",
    "rec_articles"
   ]
  },
  {
   "cell_type": "code",
   "execution_count": 92,
   "metadata": {},
   "outputs": [
    {
     "data": {
      "text/plain": [
       "['use spark r to load and analyze data',\n",
       " 'collecting data science cheat sheets',\n",
       " '10 powerful features on watson data platform, no coding necessary',\n",
       " 'notebooks: a power tool for data scientists',\n",
       " 'country statistics: crude oil - proved reserves',\n",
       " 'country statistics: crude oil - exports',\n",
       " 'top analytics tools in 2016',\n",
       " 'advancements in the spark community',\n",
       " 'airbnb data for analytics: paris calendar',\n",
       " 'airbnb data for analytics: athens reviews']"
      ]
     },
     "execution_count": 92,
     "metadata": {},
     "output_type": "execute_result"
    }
   ],
   "source": [
    "# What are the top 10 most similar articles to article_id 4?\n",
    "get_article_names(rec_articles, df=df)"
   ]
  },
  {
   "cell_type": "code",
   "execution_count": 93,
   "metadata": {},
   "outputs": [
    {
     "name": "stdout",
     "output_type": "stream",
     "text": [
      "That's right!  Great job!\n"
     ]
    }
   ],
   "source": [
    "assert set(rec_articles) == {1199, 1068, 486, 1202, 176, 1120, 244, 793, 58, 132}, \"Oops! Your the get_svd_similar_article_ids function doesn't work quite how we expect.\"\n",
    "print(\"That's right!  Great job!\")"
   ]
  },
  {
   "cell_type": "markdown",
   "metadata": {
    "collapsed": true,
    "jupyter": {
     "outputs_hidden": true
    }
   },
   "source": [
    "`6.` Use the cell below to comment on the results you found in the previous question. Given the circumstances of your results, discuss what you might do to determine if the recommendations you make above are an improvement to how users currently find articles, either by Sections 2, 3, or 4? Add any tradeoffs between each of the methods, and how you could leverage each type for different situations including new users with no history, recently new users with little history, and users with a lot of history. "
   ]
  },
  {
   "cell_type": "markdown",
   "metadata": {},
   "source": [
    "**Your response here.**\n",
    "Different recommendation will work differently. Some better depending on how much a user interacted with the platform. Let say someone a new user who did not read any article. In this situation we could suggest using the content based on the titles and keywords.\n",
    "Then lets take the situation if it is not a new user and he or she has read a few articles then we can start recommending based on patterns of what other similar user read or liked. For user with a lot of articles read we could use a different method that could recoginze deeper connections between articles regardless if the titles are related."
   ]
  },
  {
   "cell_type": "markdown",
   "metadata": {
    "collapsed": true,
    "jupyter": {
     "outputs_hidden": true
    }
   },
   "source": [
    "<a id='conclusions'></a>\n",
    "### Extras\n",
    "Using your workbook, you could now save your recommendations for each user, develop a class to make new predictions and update your results, and make a flask app to deploy your results.  These tasks are beyond what is required for this project.  However, from what you learned in the lessons, you certainly capable of taking these tasks on to improve upon your work here!\n",
    "\n",
    "\n",
    "## Conclusion\n",
    "\n",
    "> Congratulations!  You have reached the end of the Recommendation Systems project! \n",
    "\n",
    "> **Tip**: Once you are satisfied with your work here, check over your report to make sure that it is satisfies all the areas of the [rubric](https://review.udacity.com/#!/rubrics/2322/view). You should also probably remove all of the \"Tips\" like this one so that the presentation is as polished as possible.\n",
    "\n",
    "\n",
    "## Directions to Submit\n",
    "\n",
    "> Before you submit your project, you need to create a .html or .pdf version of this notebook in the workspace here. To do that, run the code cell below. If it worked correctly, you should get a return code of 0, and you should see the generated .html file in the workspace directory (click on the orange Jupyter icon in the upper left).\n",
    "\n",
    "> Alternatively, you can download this report as .html via the **File** > **Download as** submenu, and then manually upload it into the workspace directory by clicking on the orange Jupyter icon in the upper left, then using the Upload button.\n",
    "\n",
    "> Once you've done this, you can submit your project by clicking on the \"Submit Project\" button in the lower right here. This will create and submit a zip file with this .ipynb doc and the .html or .pdf version you created. Congratulations! "
   ]
  },
  {
   "cell_type": "code",
   "execution_count": 97,
   "metadata": {},
   "outputs": [],
   "source": [
    "from subprocess import call\n",
    "#call(['python', '-m', 'nbconvert', 'Recommendations_with_IBM.ipynb'])"
   ]
  }
 ],
 "metadata": {
  "kernelspec": {
   "display_name": "Python [conda env:base] *",
   "language": "python",
   "name": "conda-base-py"
  },
  "language_info": {
   "codemirror_mode": {
    "name": "ipython",
    "version": 3
   },
   "file_extension": ".py",
   "mimetype": "text/x-python",
   "name": "python",
   "nbconvert_exporter": "python",
   "pygments_lexer": "ipython3",
   "version": "3.12.3"
  }
 },
 "nbformat": 4,
 "nbformat_minor": 4
}
